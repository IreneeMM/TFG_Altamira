{
 "cells": [
  {
   "cell_type": "code",
   "execution_count": 1,
   "metadata": {},
   "outputs": [],
   "source": [
    "#Imports\n",
    "import pandas as pd"
   ]
  },
  {
   "cell_type": "markdown",
   "metadata": {},
   "source": [
    "# En este fichero se preparan los datos para posteriormente hacer correlaciones lineales con ellos en otros archivos .ipynb"
   ]
  },
  {
   "cell_type": "markdown",
   "metadata": {},
   "source": [
    "Qué hay en el documento:\n",
    "\n",
    "1) Obtener los datos cada 15 mins de policromos\n",
    "\n",
    "2) Separar datos por semanas\n"
   ]
  },
  {
   "cell_type": "markdown",
   "metadata": {},
   "source": [
    "# 0.1) Obtener los datos cada 15 mins de policromos:\n",
    "Los datos de temperaturas y CO2  se toman cada minuto en la Sala de Policromos, en contraste con el resto de zonas de la cueva, donde los datos se toman cada 15 minutos. Para poder buscar correlaciones entre los datos de Policromos y de otras salas es necesario obtener los datos de Policromos con la misma periodicidad que otras salas."
   ]
  },
  {
   "cell_type": "code",
   "execution_count": 2,
   "metadata": {},
   "outputs": [],
   "source": [
    "def adaptar_len_policromos(FicheroCruce, FicheroExterior, FicheroHall, FicheroPolicromos, mesAño):\n",
    "    \"\"\"\n",
    "    Atributos:\n",
    "    1) FicheroCruce: Excel con datos del Cruce\n",
    "    2) FicheroExterior: Excel con datos del Exterior\n",
    "    3) FicheroHall: Excel con datos del Hall\n",
    "    4) FicheroPolicromos: Excel con datos de Policromos\n",
    "    5) mesAño: String que indique el mes y año al que pertenecen los datos \n",
    "    \n",
    "    Devuelve:\n",
    "    datosPolicromos = Tp, Tp_suavizada, CO2, CO2_suavizado, Fecha_Tiempo; Una lista de listas, donde cada elemento (Tp, \n",
    "    Tp_suavizada, ect.) contiene los datos cada 15 minutos de policromos de la variable correspondiente.\n",
    "    \n",
    "    Contenido de datosPolicromos:\n",
    "    - Tp: Temperatura medida en Policromos en grados Celsius\n",
    "    - Tp_suavizada:  Temperatura medida en Policromos en grados Celsius, trás aplicarle el suavizado de datos\n",
    "    - CO2: Contenido de CO2 en partes por millón (ppm) medido en Policromos\n",
    "    - CO2_suavizado: Contenido de CO2 en partes por millón (ppm) medido en Policromos trás realizar el suavizado de datos\n",
    "    - Fecha_Tiempo: timestamp con la fecha y la hora exacta a la que se tomaron las medidas\n",
    "    \n",
    "    Cosas a tener en cuenta:\n",
    "    Esta función pinta un mensaje de aviso en caso de que la longitud de policromos sea diferente a la del resto de ficheros;\n",
    "    Esto solo ocurrirá en caso de que el archivo Policromos sea más corto que los demás, en caso de que se haya estropeado algún \n",
    "    sensor o haya habido algún problema en la obtención de los datos.\n",
    "    \n",
    "    La función pinta la longitud de los datos una vez realizados los cambios en Policromos, junto con el dato inicial y final de\n",
    "    'Fecha/Tiempo' para las cuatro salas.\n",
    "    \"\"\"\n",
    "    print('---------------------------------------------------------------------------------------------------------------')\n",
    "    print('---------------------------------------------------------------------------------------------------------------')\n",
    "    print(mesAño)\n",
    "    #Leer ficheros\n",
    "    Cruce = pd.read_excel(FicheroCruce)\n",
    "    Exterior = pd.read_excel(FicheroExterior)\n",
    "    FicheroHall = pd.read_excel(FicheroHall)\n",
    "    Policromos = pd.read_excel(FicheroPolicromos)\n",
    "    \n",
    "    #Copiar los datos cada 15 mins\n",
    "    a=0\n",
    "    b=len(Policromos['Fecha/Tiempo'])\n",
    "    min1 =FicheroHall['Fecha/Tiempo'][0].minute #Minutos del 1er dato del fichero de referencia\n",
    "    Tp=[]#El 0 es un número entero, coge desde el 1er dato útil\n",
    "    Tp_suavizada=[]\n",
    "    CO2=[]\n",
    "    CO2_suavizado=[]\n",
    "    Fecha_Tiempo = []\n",
    "    while a<b-1:\n",
    "        division=(Policromos['Fecha/Tiempo'][a].minute-min1)/15\n",
    "        division_entera=(Policromos['Fecha/Tiempo'][a].minute-min1)//15\n",
    "        if  division == division_entera and division>=0:\n",
    "            Tp.append(Policromos['Temperatura C (C)'][a])\n",
    "            Tp_suavizada.append(Policromos['Tp_suavizada'][a])\n",
    "            CO2.append(Policromos['CO2 C (ppm)'][a])\n",
    "            CO2_suavizado.append(Policromos['CO2p_suavizado'][a])\n",
    "            Fecha_Tiempo.append(Policromos['Fecha/Tiempo'][a])\n",
    "        a=a+1\n",
    "    # Tenemos listas de Tp, Tp_suavizada, CO2, CO2_suavizado y Fecha/Tiempo cada 15 mins \n",
    "    \n",
    "    #recortar ficheros en caso de que la longitud de los elemento de datosPolicromos sea mayor que la del resto de salas:\n",
    "    if len(FicheroHall['Fecha/Tiempo'])< len(Tp):\n",
    "        Tp=Tp[:len(FicheroHall['Fecha/Tiempo'])]\n",
    "        Tp_suavizada=Tp_suavizada[:len(FicheroHall['Fecha/Tiempo'])]\n",
    "        CO2=CO2[:len(FicheroHall['Fecha/Tiempo'])]\n",
    "        CO2_suavizado=CO2_suavizado[:len(FicheroHall['Fecha/Tiempo'])]\n",
    "        Fecha_Tiempo=Fecha_Tiempo[:len(FicheroHall['Fecha/Tiempo'])]\n",
    "    elif len(FicheroHall['Fecha/Tiempo'])> len(Tp):\n",
    "        print('Policromos es más corto-> Solucionar')  \n",
    "    # No hace falta hace un elif adicional con la condición 'len(FicheroHall['Fecha/Tiempo'])= len(Tp)'. No da problemas\n",
    "    \n",
    "    #Pintar datos para comprobar que las longitudes de todos los archivos sean iguales, y que empiezan y terminan a la vez:\n",
    "    print('Datos finales-------------------')\n",
    "    print('lenCruce:', 'lenExterior:', 'lenHall:', 'lenPolicromos:')\n",
    "    print(len(Cruce['Fecha/Tiempo']), len(Exterior['Fecha/Tiempo']), len(FicheroHall['Fecha/Tiempo']), len(Tp))\n",
    "    print('--------------------------------')\n",
    "    print('1er dato Cruce:', '1er dato Exterior:', '1er dato hall:', '1er dato Policromos:')\n",
    "    print(Cruce['Fecha/Tiempo'][0], Exterior['Fecha/Tiempo'][0],FicheroHall['Fecha/Tiempo'][0],Fecha_Tiempo[0])\n",
    "    print('--------------------------------')\n",
    "    print('Último dato Cruce:', 'Último dato Exterior:', 'Último dato hall:', 'Último dato Policromos:')\n",
    "    print(Cruce['Fecha/Tiempo'][len(Cruce['Fecha/Tiempo'])-1], Exterior['Fecha/Tiempo'][len(Exterior['Fecha/Tiempo'])-1],\n",
    "          FicheroHall['Fecha/Tiempo'][len(FicheroHall['Fecha/Tiempo'])-1],Fecha_Tiempo[len(Tp)-1])\n",
    "    return(Tp, Tp_suavizada, CO2, CO2_suavizado, Fecha_Tiempo)"
   ]
  },
  {
   "cell_type": "markdown",
   "metadata": {},
   "source": [
    "Hay algunos meses donde los datos están desplazados 8 minutos, no merece la pena borrar datos para emparejar los tiempos porque la diferencia temporal seguiría siendo de 7 minutos, solo un minuto de diferencia."
   ]
  },
  {
   "cell_type": "markdown",
   "metadata": {},
   "source": [
    "# 0.2) Separar datos por semanas"
   ]
  },
  {
   "cell_type": "markdown",
   "metadata": {},
   "source": [
    "### Para Cruce, exterior y hall:"
   ]
  },
  {
   "cell_type": "code",
   "execution_count": 3,
   "metadata": {},
   "outputs": [],
   "source": [
    "def SepararPorSemanas(NombreFichero):\n",
    "    \"\"\"\n",
    "    Introduciendo el nombre de un archivo excel de Altamira (NombreFichero), devuelve weekly_data, una lista de dataframes cuyos\n",
    "    elementos corresponden cada uno a una semana del mes. Los dataframes de weekly_data tendrán las mismas columnas que el \n",
    "    archivo original.\n",
    "    \"\"\"\n",
    "    df=pd.read_excel(NombreFichero)\n",
    "    #Convertir la columna de datos temporales ('Fecha/Tiempo') a formato datetime:\n",
    "    df['Fecha/Tiempo'] = pd.to_datetime(df['Fecha/Tiempo'])\n",
    "    #Extraer el número de la semana de la columna de fechas:\n",
    "    df['week'] = df['Fecha/Tiempo'].dt.week\n",
    "    #Crear una lista vacía para guardar los datos (dataframe) de cada semana:\n",
    "    weekly_data = []\n",
    "    #Agrupar los datos con 'week', empezando por el lunes:\n",
    "    grouped_df = df.groupby(pd.Grouper(key='Fecha/Tiempo', freq='W-SUN'))\n",
    "    #Introducir los dataframes con los datos de una semana en la variable weekly_data:\n",
    "    for week, data in grouped_df:\n",
    "        weekly_data.append(data.reset_index(drop=True))\n",
    "    return weekly_data "
   ]
  },
  {
   "cell_type": "markdown",
   "metadata": {},
   "source": [
    "### Separar por semanas policromos:"
   ]
  },
  {
   "cell_type": "code",
   "execution_count": 4,
   "metadata": {},
   "outputs": [],
   "source": [
    "def separar_policromos_semanas(datosPolicromos):\n",
    "    \"\"\"\n",
    "    Introduciendo como atributo datosPolicromos, convierte este en un dataframe y lo separa por semanas. \n",
    "    Devuelve weekly_data, una lista de dataframes. Cada dataframe contiene los datos proporcionados en datosPolicromos de una\n",
    "    semana.\n",
    "    \n",
    "    Recordar que la estructura de datosPolicromos es:\n",
    "    datosPolicromos = Tp, Tp_suavizada, CO2, CO2_suavizado, Fecha_Tiempo\n",
    "    \"\"\"\n",
    "    \n",
    "    #Pasar lista de listas a diccionario:\n",
    "    diccionario_policromos_10_20={'Tp': datosPolicromos[0], 'Tp_suavizada': datosPolicromos[1], 'CO2': datosPolicromos[2],\n",
    "                                  'CO2_suavizado': datosPolicromos[3], 'Fecha/Tiempo': datosPolicromos[4]}\n",
    "    #Pasar el diccionario a dataframe:\n",
    "    df = pd.DataFrame(data=diccionario_policromos_10_20)\n",
    "    \n",
    "    ##Separar por semanas:\n",
    "    df['Fecha/Tiempo'] = pd.to_datetime(df['Fecha/Tiempo'])\n",
    "    df['week'] = df['Fecha/Tiempo'].dt.week\n",
    "    weekly_data = []\n",
    "    grouped_df = df.groupby(pd.Grouper(key='Fecha/Tiempo', freq='W-SUN'))\n",
    "    for week, data in grouped_df:\n",
    "        weekly_data.append(data.reset_index(drop=True))\n",
    "    return weekly_data "
   ]
  }
 ],
 "metadata": {
  "kernelspec": {
   "display_name": "Python 3",
   "language": "python",
   "name": "python3"
  },
  "language_info": {
   "codemirror_mode": {
    "name": "ipython",
    "version": 3
   },
   "file_extension": ".py",
   "mimetype": "text/x-python",
   "name": "python",
   "nbconvert_exporter": "python",
   "pygments_lexer": "ipython3",
   "version": "3.8.3"
  }
 },
 "nbformat": 4,
 "nbformat_minor": 4
}

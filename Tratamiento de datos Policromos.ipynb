{
 "cells": [
  {
   "cell_type": "code",
   "execution_count": 1,
   "metadata": {},
   "outputs": [],
   "source": [
    "import pandas as pd\n",
    "import numpy as np\n",
    "import matplotlib.pyplot as plt"
   ]
  },
  {
   "cell_type": "markdown",
   "metadata": {},
   "source": [
    "### Histogramas Policromos"
   ]
  },
  {
   "cell_type": "code",
   "execution_count": 16,
   "metadata": {},
   "outputs": [],
   "source": [
    "def VerDatos(FicheroEntrada, mesAño):#CO2 A (ppm)\n",
    "    #Es un arreglo de código, aquí Entrada=Policromos\n",
    "    print(mesAño)\n",
    "    #leer datos\n",
    "    Entrada = pd.read_excel(FicheroEntrada)\n",
    "    #Ver cómo están los datos de entrada, en especial 'Temperatura A (° C)'\n",
    "    print('Nans por columnas del archivo cruce')\n",
    "    print(Entrada.isnull().sum())\n",
    "    histRawTc = Entrada.hist(figsize = (3,3), column='Temperatura C (C)')\n",
    "    histRawCO2 = Entrada.hist(figsize = (3,3), column='CO2 C (ppm)')\n",
    "#     print('len Th:', len(Entrada['Temperatura A (° C)']), 'len CO2 hall:', len(Entrada['CO2 A (ppm)']))"
   ]
  },
  {
   "cell_type": "code",
   "execution_count": 3,
   "metadata": {
    "scrolled": false
   },
   "outputs": [
    {
     "data": {
      "text/html": [
       "<div>\n",
       "<style scoped>\n",
       "    .dataframe tbody tr th:only-of-type {\n",
       "        vertical-align: middle;\n",
       "    }\n",
       "\n",
       "    .dataframe tbody tr th {\n",
       "        vertical-align: top;\n",
       "    }\n",
       "\n",
       "    .dataframe thead th {\n",
       "        text-align: right;\n",
       "    }\n",
       "</style>\n",
       "<table border=\"1\" class=\"dataframe\">\n",
       "  <thead>\n",
       "    <tr style=\"text-align: right;\">\n",
       "      <th></th>\n",
       "      <th>Unnamed: 0</th>\n",
       "      <th>Unnamed: 0.1</th>\n",
       "      <th>Fecha/Tiempo</th>\n",
       "      <th>Temperatura C (C)</th>\n",
       "      <th>Humedad R C (%HR)</th>\n",
       "      <th>Tr techo ('C)</th>\n",
       "      <th>CO2 C (ppm)</th>\n",
       "      <th>Presion Policrom (mbr)</th>\n",
       "      <th>Tr suelo C ('C)</th>\n",
       "      <th>Tr aire inf ('C)</th>\n",
       "      <th>Tr aire sup ('C)</th>\n",
       "      <th>Tp_suavizada</th>\n",
       "      <th>CO2p_suavizado</th>\n",
       "    </tr>\n",
       "  </thead>\n",
       "  <tbody>\n",
       "    <tr>\n",
       "      <th>0</th>\n",
       "      <td>0</td>\n",
       "      <td>0</td>\n",
       "      <td>2020-10-01 00:00:55.090</td>\n",
       "      <td>14.77</td>\n",
       "      <td>99.99</td>\n",
       "      <td>12.52</td>\n",
       "      <td>2110</td>\n",
       "      <td>992.5</td>\n",
       "      <td>15.13</td>\n",
       "      <td>15.04</td>\n",
       "      <td>15.25</td>\n",
       "      <td>NaN</td>\n",
       "      <td>NaN</td>\n",
       "    </tr>\n",
       "    <tr>\n",
       "      <th>1</th>\n",
       "      <td>1</td>\n",
       "      <td>1</td>\n",
       "      <td>2020-10-01 00:01:55.090</td>\n",
       "      <td>14.77</td>\n",
       "      <td>99.98</td>\n",
       "      <td>12.57</td>\n",
       "      <td>2105</td>\n",
       "      <td>992.5</td>\n",
       "      <td>15.07</td>\n",
       "      <td>15.01</td>\n",
       "      <td>15.19</td>\n",
       "      <td>NaN</td>\n",
       "      <td>NaN</td>\n",
       "    </tr>\n",
       "    <tr>\n",
       "      <th>2</th>\n",
       "      <td>2</td>\n",
       "      <td>2</td>\n",
       "      <td>2020-10-01 00:02:55.090</td>\n",
       "      <td>14.77</td>\n",
       "      <td>100.00</td>\n",
       "      <td>12.54</td>\n",
       "      <td>2120</td>\n",
       "      <td>992.5</td>\n",
       "      <td>15.05</td>\n",
       "      <td>15.03</td>\n",
       "      <td>15.16</td>\n",
       "      <td>NaN</td>\n",
       "      <td>NaN</td>\n",
       "    </tr>\n",
       "    <tr>\n",
       "      <th>3</th>\n",
       "      <td>3</td>\n",
       "      <td>3</td>\n",
       "      <td>2020-10-01 00:03:55.090</td>\n",
       "      <td>14.77</td>\n",
       "      <td>99.97</td>\n",
       "      <td>12.48</td>\n",
       "      <td>2110</td>\n",
       "      <td>992.5</td>\n",
       "      <td>15.06</td>\n",
       "      <td>15.06</td>\n",
       "      <td>15.15</td>\n",
       "      <td>NaN</td>\n",
       "      <td>NaN</td>\n",
       "    </tr>\n",
       "    <tr>\n",
       "      <th>4</th>\n",
       "      <td>4</td>\n",
       "      <td>4</td>\n",
       "      <td>2020-10-01 00:04:55.090</td>\n",
       "      <td>14.77</td>\n",
       "      <td>99.98</td>\n",
       "      <td>12.52</td>\n",
       "      <td>2118</td>\n",
       "      <td>992.6</td>\n",
       "      <td>15.15</td>\n",
       "      <td>15.03</td>\n",
       "      <td>15.20</td>\n",
       "      <td>NaN</td>\n",
       "      <td>NaN</td>\n",
       "    </tr>\n",
       "    <tr>\n",
       "      <th>...</th>\n",
       "      <td>...</td>\n",
       "      <td>...</td>\n",
       "      <td>...</td>\n",
       "      <td>...</td>\n",
       "      <td>...</td>\n",
       "      <td>...</td>\n",
       "      <td>...</td>\n",
       "      <td>...</td>\n",
       "      <td>...</td>\n",
       "      <td>...</td>\n",
       "      <td>...</td>\n",
       "      <td>...</td>\n",
       "      <td>...</td>\n",
       "    </tr>\n",
       "    <tr>\n",
       "      <th>44635</th>\n",
       "      <td>44635</td>\n",
       "      <td>44635</td>\n",
       "      <td>2020-10-31 23:55:55.090</td>\n",
       "      <td>15.09</td>\n",
       "      <td>99.99</td>\n",
       "      <td>12.83</td>\n",
       "      <td>3858</td>\n",
       "      <td>1001.2</td>\n",
       "      <td>15.39</td>\n",
       "      <td>15.34</td>\n",
       "      <td>15.52</td>\n",
       "      <td>15.092</td>\n",
       "      <td>3839.0</td>\n",
       "    </tr>\n",
       "    <tr>\n",
       "      <th>44636</th>\n",
       "      <td>44636</td>\n",
       "      <td>44636</td>\n",
       "      <td>2020-10-31 23:56:55.090</td>\n",
       "      <td>15.09</td>\n",
       "      <td>99.98</td>\n",
       "      <td>12.91</td>\n",
       "      <td>3850</td>\n",
       "      <td>1001.2</td>\n",
       "      <td>15.35</td>\n",
       "      <td>15.27</td>\n",
       "      <td>15.48</td>\n",
       "      <td>15.092</td>\n",
       "      <td>3841.8</td>\n",
       "    </tr>\n",
       "    <tr>\n",
       "      <th>44637</th>\n",
       "      <td>44637</td>\n",
       "      <td>44637</td>\n",
       "      <td>2020-10-31 23:57:55.090</td>\n",
       "      <td>15.09</td>\n",
       "      <td>99.98</td>\n",
       "      <td>12.86</td>\n",
       "      <td>3847</td>\n",
       "      <td>1001.2</td>\n",
       "      <td>15.43</td>\n",
       "      <td>15.33</td>\n",
       "      <td>15.47</td>\n",
       "      <td>15.092</td>\n",
       "      <td>3844.6</td>\n",
       "    </tr>\n",
       "    <tr>\n",
       "      <th>44638</th>\n",
       "      <td>44638</td>\n",
       "      <td>44638</td>\n",
       "      <td>2020-10-31 23:58:55.090</td>\n",
       "      <td>15.09</td>\n",
       "      <td>99.98</td>\n",
       "      <td>12.84</td>\n",
       "      <td>3863</td>\n",
       "      <td>1001.2</td>\n",
       "      <td>15.45</td>\n",
       "      <td>15.29</td>\n",
       "      <td>15.47</td>\n",
       "      <td>15.092</td>\n",
       "      <td>3845.2</td>\n",
       "    </tr>\n",
       "    <tr>\n",
       "      <th>44639</th>\n",
       "      <td>44639</td>\n",
       "      <td>44639</td>\n",
       "      <td>2020-10-31 23:59:55.090</td>\n",
       "      <td>15.09</td>\n",
       "      <td>99.99</td>\n",
       "      <td>12.86</td>\n",
       "      <td>3854</td>\n",
       "      <td>1001.2</td>\n",
       "      <td>15.41</td>\n",
       "      <td>15.36</td>\n",
       "      <td>15.53</td>\n",
       "      <td>15.092</td>\n",
       "      <td>3849.8</td>\n",
       "    </tr>\n",
       "  </tbody>\n",
       "</table>\n",
       "<p>44640 rows × 13 columns</p>\n",
       "</div>"
      ],
      "text/plain": [
       "       Unnamed: 0  Unnamed: 0.1            Fecha/Tiempo  Temperatura C (C)  \\\n",
       "0               0             0 2020-10-01 00:00:55.090              14.77   \n",
       "1               1             1 2020-10-01 00:01:55.090              14.77   \n",
       "2               2             2 2020-10-01 00:02:55.090              14.77   \n",
       "3               3             3 2020-10-01 00:03:55.090              14.77   \n",
       "4               4             4 2020-10-01 00:04:55.090              14.77   \n",
       "...           ...           ...                     ...                ...   \n",
       "44635       44635         44635 2020-10-31 23:55:55.090              15.09   \n",
       "44636       44636         44636 2020-10-31 23:56:55.090              15.09   \n",
       "44637       44637         44637 2020-10-31 23:57:55.090              15.09   \n",
       "44638       44638         44638 2020-10-31 23:58:55.090              15.09   \n",
       "44639       44639         44639 2020-10-31 23:59:55.090              15.09   \n",
       "\n",
       "       Humedad R C (%HR)  Tr techo ('C)  CO2 C (ppm)  Presion Policrom (mbr)  \\\n",
       "0                  99.99          12.52         2110                   992.5   \n",
       "1                  99.98          12.57         2105                   992.5   \n",
       "2                 100.00          12.54         2120                   992.5   \n",
       "3                  99.97          12.48         2110                   992.5   \n",
       "4                  99.98          12.52         2118                   992.6   \n",
       "...                  ...            ...          ...                     ...   \n",
       "44635              99.99          12.83         3858                  1001.2   \n",
       "44636              99.98          12.91         3850                  1001.2   \n",
       "44637              99.98          12.86         3847                  1001.2   \n",
       "44638              99.98          12.84         3863                  1001.2   \n",
       "44639              99.99          12.86         3854                  1001.2   \n",
       "\n",
       "       Tr suelo C ('C)  Tr aire inf ('C)  Tr aire sup ('C)  Tp_suavizada  \\\n",
       "0                15.13             15.04             15.25           NaN   \n",
       "1                15.07             15.01             15.19           NaN   \n",
       "2                15.05             15.03             15.16           NaN   \n",
       "3                15.06             15.06             15.15           NaN   \n",
       "4                15.15             15.03             15.20           NaN   \n",
       "...                ...               ...               ...           ...   \n",
       "44635            15.39             15.34             15.52        15.092   \n",
       "44636            15.35             15.27             15.48        15.092   \n",
       "44637            15.43             15.33             15.47        15.092   \n",
       "44638            15.45             15.29             15.47        15.092   \n",
       "44639            15.41             15.36             15.53        15.092   \n",
       "\n",
       "       CO2p_suavizado  \n",
       "0                 NaN  \n",
       "1                 NaN  \n",
       "2                 NaN  \n",
       "3                 NaN  \n",
       "4                 NaN  \n",
       "...               ...  \n",
       "44635          3839.0  \n",
       "44636          3841.8  \n",
       "44637          3844.6  \n",
       "44638          3845.2  \n",
       "44639          3849.8  \n",
       "\n",
       "[44640 rows x 13 columns]"
      ]
     },
     "execution_count": 3,
     "metadata": {},
     "output_type": "execute_result"
    }
   ],
   "source": [
    "pd.read_excel(\"./altamira/2020/10.OCTUBRE/ZONA POLICROMOS.xlsx\")"
   ]
  },
  {
   "cell_type": "code",
   "execution_count": 17,
   "metadata": {
    "scrolled": false
   },
   "outputs": [
    {
     "name": "stdout",
     "output_type": "stream",
     "text": [
      "Octubre2020\n",
      "Nans por columnas del archivo cruce\n",
      "Unnamed: 0                0\n",
      "Unnamed: 0.1              0\n",
      "Fecha/Tiempo              0\n",
      "Temperatura C (C)         0\n",
      "Humedad R C (%HR)         0\n",
      "Tr techo ('C)             0\n",
      "CO2 C (ppm)               0\n",
      "Presion Policrom (mbr)    0\n",
      "Tr suelo C ('C)           0\n",
      "Tr aire inf ('C)          0\n",
      "Tr aire sup ('C)          0\n",
      "Tp_suavizada              5\n",
      "CO2p_suavizado            5\n",
      "dtype: int64\n"
     ]
    },
    {
     "data": {
      "image/png": "[encoded data removed]",
      "text/plain": [
       "<Figure size 216x216 with 1 Axes>"
      ]
     },
     "metadata": {
      "needs_background": "light"
     },
     "output_type": "display_data"
    },
    {
     "data": {
      "image/png": "[encoded data removed]",
      "text/plain": [
       "<Figure size 216x216 with 1 Axes>"
      ]
     },
     "metadata": {
      "needs_background": "light"
     },
     "output_type": "display_data"
    }
   ],
   "source": [
    "VerDatos(\"./altamira/2020/10.OCTUBRE/ZONA POLICROMOS.xlsx\", 'Octubre2020')"
   ]
  },
  {
   "cell_type": "code",
   "execution_count": 20,
   "metadata": {
    "scrolled": false
   },
   "outputs": [
    {
     "name": "stdout",
     "output_type": "stream",
     "text": [
      "Noviembre2020\n",
      "Nans por columnas del archivo cruce\n",
      "Unnamed: 0                0\n",
      "Fecha/Tiempo              0\n",
      "Temperatura C (C)         0\n",
      "Humedad R C (%HR)         0\n",
      "Tr techo ('C)             0\n",
      "CO2 C (ppm)               0\n",
      "Presion Policrom (mbr)    0\n",
      "Tr suelo C ('C)           0\n",
      "Tr aire inf ('C)          0\n",
      "Tr aire sup ('C)          0\n",
      "Tp_suavizada              5\n",
      "CO2p_suavizado            5\n",
      "dtype: int64\n"
     ]
    },
    {
     "data": {
      "image/png": "[encoded data removed]",
      "text/plain": [
       "<Figure size 216x216 with 1 Axes>"
      ]
     },
     "metadata": {
      "needs_background": "light"
     },
     "output_type": "display_data"
    },
    {
     "data": {
      "image/png": "[encoded data removed]",
      "text/plain": [
       "<Figure size 216x216 with 1 Axes>"
      ]
     },
     "metadata": {
      "needs_background": "light"
     },
     "output_type": "display_data"
    }
   ],
   "source": [
    "VerDatos(\"./altamira/2020/11.NOVIEMBRE/ZONA POLICROMOS C.xlsx\", 'Noviembre2020')"
   ]
  },
  {
   "cell_type": "code",
   "execution_count": 21,
   "metadata": {
    "scrolled": false
   },
   "outputs": [
    {
     "name": "stdout",
     "output_type": "stream",
     "text": [
      "Diciembre2020\n",
      "Nans por columnas del archivo cruce\n",
      "Unnamed: 0                 0\n",
      "Fecha/Tiempo               0\n",
      "Temperatura C (C)          2\n",
      "Humedad R C (%HR)          2\n",
      "Tr techo ('C)              1\n",
      "CO2 C (ppm)                2\n",
      "Presion Policrom (mbr)     1\n",
      "Tr suelo C ('C)            0\n",
      "Tr aire inf ('C)           0\n",
      "Tr aire sup ('C)           0\n",
      "Tp_suavizada              15\n",
      "CO2p_suavizado            15\n",
      "dtype: int64\n"
     ]
    },
    {
     "data": {
      "image/png": "[encoded data removed]",
      "text/plain": [
       "<Figure size 216x216 with 1 Axes>"
      ]
     },
     "metadata": {
      "needs_background": "light"
     },
     "output_type": "display_data"
    },
    {
     "data": {
      "image/png": "[encoded data removed]",
      "text/plain": [
       "<Figure size 216x216 with 1 Axes>"
      ]
     },
     "metadata": {
      "needs_background": "light"
     },
     "output_type": "display_data"
    }
   ],
   "source": [
    "VerDatos(\"./altamira/2020/12.DICIEMBRE/ZONA POLICROMOS C.xlsx\", 'Diciembre2020')"
   ]
  },
  {
   "cell_type": "code",
   "execution_count": 22,
   "metadata": {
    "scrolled": false
   },
   "outputs": [
    {
     "name": "stdout",
     "output_type": "stream",
     "text": [
      "Enero2021\n",
      "Nans por columnas del archivo cruce\n",
      "Unnamed: 0                  0\n",
      "Fecha/Tiempo                0\n",
      "Temperatura C (C)         376\n",
      "Humedad R C (%HR)         376\n",
      "Tr techo ('C)               0\n",
      "CO2 C (ppm)               375\n",
      "Presion Policrom (mbr)    375\n",
      "Tr suelo C ('C)             0\n",
      "Tr aire inf ('C)            0\n",
      "Tr aire sup ('C)            0\n",
      "Tp_suavizada              389\n",
      "CO2p_suavizado            388\n",
      "dtype: int64\n"
     ]
    },
    {
     "data": {
      "image/png": "[encoded data removed]",
      "text/plain": [
       "<Figure size 216x216 with 1 Axes>"
      ]
     },
     "metadata": {
      "needs_background": "light"
     },
     "output_type": "display_data"
    },
    {
     "data": {
      "image/png": "[encoded data removed]",
      "text/plain": [
       "<Figure size 216x216 with 1 Axes>"
      ]
     },
     "metadata": {
      "needs_background": "light"
     },
     "output_type": "display_data"
    }
   ],
   "source": [
    "VerDatos(\"./altamira/2021/1.ENERO/ZONA POLICROMOS ENERO.xlsx\", 'Enero2021')"
   ]
  },
  {
   "cell_type": "code",
   "execution_count": 23,
   "metadata": {
    "scrolled": false
   },
   "outputs": [
    {
     "name": "stdout",
     "output_type": "stream",
     "text": [
      "Febrero2021\n",
      "Nans por columnas del archivo cruce\n",
      "Unnamed: 0                0\n",
      "Fecha/Tiempo              0\n",
      "Temperatura C (C)         0\n",
      "Humedad R C (%HR)         0\n",
      "Tr techo ('C)             0\n",
      "CO2 C (ppm)               0\n",
      "Presion Policrom (mbr)    0\n",
      "Tr suelo C ('C)           0\n",
      "Tr aire inf ('C)          0\n",
      "Tr aire sup ('C)          0\n",
      "Tp_suavizada              5\n",
      "CO2p_suavizado            5\n",
      "dtype: int64\n"
     ]
    },
    {
     "data": {
      "image/png": "[encoded data removed]",
      "text/plain": [
       "<Figure size 216x216 with 1 Axes>"
      ]
     },
     "metadata": {
      "needs_background": "light"
     },
     "output_type": "display_data"
    },
    {
     "data": {
      "image/png": "[encoded data removed]",
      "text/plain": [
       "<Figure size 216x216 with 1 Axes>"
      ]
     },
     "metadata": {
      "needs_background": "light"
     },
     "output_type": "display_data"
    }
   ],
   "source": [
    "VerDatos(\"./altamira/2021/2.FEBRERO/ZONA POLICROMOS C.xlsx\", 'Febrero2021')"
   ]
  },
  {
   "cell_type": "code",
   "execution_count": 24,
   "metadata": {
    "scrolled": false
   },
   "outputs": [
    {
     "name": "stdout",
     "output_type": "stream",
     "text": [
      "Marzo2021\n",
      "Nans por columnas del archivo cruce\n",
      "Unnamed: 0                 0\n",
      "Fecha/Tiempo               0\n",
      "Temperatura C (C)          0\n",
      "Humedad R C (%HR)          0\n",
      "Tr techo ('C)              0\n",
      "CO2 C (ppm)                1\n",
      "Presion Policrom (mbr)     0\n",
      "Tr suelo C ('C)            0\n",
      "Tr aire inf ('C)           0\n",
      "Tr aire sup ('C)           0\n",
      "Tp_suavizada               5\n",
      "CO2p_suavizado            10\n",
      "dtype: int64\n"
     ]
    },
    {
     "data": {
      "image/png": "[encoded data removed]",
      "text/plain": [
       "<Figure size 216x216 with 1 Axes>"
      ]
     },
     "metadata": {
      "needs_background": "light"
     },
     "output_type": "display_data"
    },
    {
     "data": {
      "image/png": "[encoded data removed]",
      "text/plain": [
       "<Figure size 216x216 with 1 Axes>"
      ]
     },
     "metadata": {
      "needs_background": "light"
     },
     "output_type": "display_data"
    }
   ],
   "source": [
    "VerDatos(\"./altamira/2021/3.MARZO/ZONA POLICROMOS C.xlsx\", 'Marzo2021')"
   ]
  },
  {
   "cell_type": "code",
   "execution_count": 25,
   "metadata": {
    "scrolled": false
   },
   "outputs": [
    {
     "name": "stdout",
     "output_type": "stream",
     "text": [
      "Abril2021\n",
      "Nans por columnas del archivo cruce\n",
      "Unnamed: 0                0\n",
      "Fecha/Tiempo              0\n",
      "Temperatura C (C)         0\n",
      "Humedad R C (%HR)         0\n",
      "Tr techo ('C)             0\n",
      "CO2 C (ppm)               0\n",
      "Presion Policrom (mbr)    0\n",
      "Tr suelo C ('C)           0\n",
      "Tr aire inf ('C)          0\n",
      "Tr aire sup ('C)          0\n",
      "Tp_suavizada              5\n",
      "CO2p_suavizado            5\n",
      "dtype: int64\n"
     ]
    },
    {
     "data": {
      "image/png": "[encoded data removed]",
      "text/plain": [
       "<Figure size 216x216 with 1 Axes>"
      ]
     },
     "metadata": {
      "needs_background": "light"
     },
     "output_type": "display_data"
    },
    {
     "data": {
      "image/png": "[encoded data removed]",
      "text/plain": [
       "<Figure size 216x216 with 1 Axes>"
      ]
     },
     "metadata": {
      "needs_background": "light"
     },
     "output_type": "display_data"
    }
   ],
   "source": [
    "VerDatos(\"./altamira/2021/4.ABRIL/ZONA POLICROMOS C.xlsx\", 'Abril2021')"
   ]
  },
  {
   "cell_type": "code",
   "execution_count": 26,
   "metadata": {},
   "outputs": [
    {
     "name": "stdout",
     "output_type": "stream",
     "text": [
      "Mayo2021\n",
      "Nans por columnas del archivo cruce\n",
      "Unnamed: 0                 0\n",
      "Fecha/Tiempo               0\n",
      "Temperatura C (C)         14\n",
      "Humedad R C (%HR)         14\n",
      "Tr techo ('C)             14\n",
      "CO2 C (ppm)               15\n",
      "Presion Policrom (mbr)    14\n",
      "Tr suelo C ('C)           14\n",
      "Tr aire inf ('C)          14\n",
      "Tr aire sup ('C)          14\n",
      "Tp_suavizada              23\n",
      "CO2p_suavizado            24\n",
      "dtype: int64\n"
     ]
    },
    {
     "data": {
      "image/png": "[encoded data removed]",
      "text/plain": [
       "<Figure size 216x216 with 1 Axes>"
      ]
     },
     "metadata": {
      "needs_background": "light"
     },
     "output_type": "display_data"
    },
    {
     "data": {
      "image/png": "[encoded data removed]",
      "text/plain": [
       "<Figure size 216x216 with 1 Axes>"
      ]
     },
     "metadata": {
      "needs_background": "light"
     },
     "output_type": "display_data"
    }
   ],
   "source": [
    "VerDatos(\"./altamira/2021/5.MAYO/ZONA POLICROMOS C.xlsx\", 'Mayo2021')"
   ]
  },
  {
   "cell_type": "code",
   "execution_count": 27,
   "metadata": {},
   "outputs": [
    {
     "name": "stdout",
     "output_type": "stream",
     "text": [
      "Junio2021\n",
      "Nans por columnas del archivo cruce\n",
      "Unnamed: 0                0\n",
      "Fecha/Tiempo              0\n",
      "Temperatura C (C)         0\n",
      "Humedad R C (%HR)         0\n",
      "Tr techo ('C)             0\n",
      "CO2 C (ppm)               0\n",
      "Presion Policrom (mbr)    0\n",
      "Tr suelo C ('C)           0\n",
      "Tr aire inf ('C)          0\n",
      "Tr aire sup ('C)          0\n",
      "Tp_suavizada              5\n",
      "CO2p_suavizado            5\n",
      "dtype: int64\n"
     ]
    },
    {
     "data": {
      "image/png": "[encoded data removed]",
      "text/plain": [
       "<Figure size 216x216 with 1 Axes>"
      ]
     },
     "metadata": {
      "needs_background": "light"
     },
     "output_type": "display_data"
    },
    {
     "data": {
      "image/png": "[encoded data removed]",
      "text/plain": [
       "<Figure size 216x216 with 1 Axes>"
      ]
     },
     "metadata": {
      "needs_background": "light"
     },
     "output_type": "display_data"
    }
   ],
   "source": [
    "VerDatos(\"./altamira/2021/6.JUNIO/ZONA POLICROMOS C.xlsx\", 'Junio2021')"
   ]
  },
  {
   "cell_type": "code",
   "execution_count": 28,
   "metadata": {},
   "outputs": [
    {
     "name": "stdout",
     "output_type": "stream",
     "text": [
      "Julio2021\n",
      "Nans por columnas del archivo cruce\n",
      "Unnamed: 0                 0\n",
      "Fecha/Tiempo               0\n",
      "Temperatura C (C)          2\n",
      "Humedad R C (%HR)          4\n",
      "Tr techo ('C)             85\n",
      "CO2 C (ppm)                2\n",
      "Presion Policrom (mbr)     2\n",
      "Tr suelo C ('C)           85\n",
      "Tr aire inf ('C)          85\n",
      "Tr aire sup ('C)          85\n",
      "Tp_suavizada              13\n",
      "CO2p_suavizado            13\n",
      "dtype: int64\n"
     ]
    },
    {
     "data": {
      "image/png": "[encoded data removed]",
      "text/plain": [
       "<Figure size 216x216 with 1 Axes>"
      ]
     },
     "metadata": {
      "needs_background": "light"
     },
     "output_type": "display_data"
    },
    {
     "data": {
      "image/png": "[encoded data removed]",
      "text/plain": [
       "<Figure size 216x216 with 1 Axes>"
      ]
     },
     "metadata": {
      "needs_background": "light"
     },
     "output_type": "display_data"
    }
   ],
   "source": [
    "VerDatos(\"./altamira/2021/7.JULIO/ZONA POLICROMOS C.xlsx\", 'Julio2021')"
   ]
  },
  {
   "cell_type": "code",
   "execution_count": 29,
   "metadata": {},
   "outputs": [
    {
     "name": "stdout",
     "output_type": "stream",
     "text": [
      "Agosto2021\n",
      "Nans por columnas del archivo cruce\n",
      "Unnamed: 0                 0\n",
      "Fecha/Tiempo               0\n",
      "Temperatura C (C)          8\n",
      "Humedad R C (%HR)          8\n",
      "Tr techo ('C)              0\n",
      "CO2 C (ppm)                8\n",
      "Presion Policrom (mbr)     8\n",
      "Tr suelo C ('C)            0\n",
      "Tr aire inf ('C)           0\n",
      "Tr aire sup ('C)           0\n",
      "Tp_suavizada              17\n",
      "CO2p_suavizado            17\n",
      "dtype: int64\n"
     ]
    },
    {
     "data": {
      "image/png": "[encoded data removed]",
      "text/plain": [
       "<Figure size 216x216 with 1 Axes>"
      ]
     },
     "metadata": {
      "needs_background": "light"
     },
     "output_type": "display_data"
    },
    {
     "data": {
      "image/png": "[encoded data removed]",
      "text/plain": [
       "<Figure size 216x216 with 1 Axes>"
      ]
     },
     "metadata": {
      "needs_background": "light"
     },
     "output_type": "display_data"
    }
   ],
   "source": [
    "VerDatos(\"./altamira/2021/8.AGOSTO/ZONA POLICROMOS C.xlsx\", 'Agosto2021')"
   ]
  },
  {
   "cell_type": "code",
   "execution_count": 30,
   "metadata": {},
   "outputs": [
    {
     "name": "stdout",
     "output_type": "stream",
     "text": [
      "Septiembre2021\n",
      "Nans por columnas del archivo cruce\n",
      "Unnamed: 0                    0\n",
      "Fecha/Tiempo                  0\n",
      "Temperatura C (C)            56\n",
      "Humedad R C (%HR)            31\n",
      "Tr techo ('C)             10058\n",
      "CO2 C (ppm)                  31\n",
      "Presion Policrom (mbr)       31\n",
      "Tr suelo C ('C)           10058\n",
      "Tr aire inf ('C)          10058\n",
      "Tr aire sup ('C)          10058\n",
      "Tp_suavizada                 73\n",
      "CO2p_suavizado               44\n",
      "dtype: int64\n"
     ]
    },
    {
     "data": {
      "image/png": "[encoded data removed]",
      "text/plain": [
       "<Figure size 216x216 with 1 Axes>"
      ]
     },
     "metadata": {
      "needs_background": "light"
     },
     "output_type": "display_data"
    },
    {
     "data": {
      "image/png": "[encoded data removed]",
      "text/plain": [
       "<Figure size 216x216 with 1 Axes>"
      ]
     },
     "metadata": {
      "needs_background": "light"
     },
     "output_type": "display_data"
    }
   ],
   "source": [
    "VerDatos(\"./altamira/2021/9. SEPTIEMBRE/ZONA POLICROMOS C.xlsx\", 'Septiembre2021')"
   ]
  },
  {
   "cell_type": "code",
   "execution_count": 31,
   "metadata": {},
   "outputs": [
    {
     "name": "stdout",
     "output_type": "stream",
     "text": [
      "Octubre2021\n",
      "Nans por columnas del archivo cruce\n",
      "Unnamed: 0                0\n",
      "Fecha/Tiempo              0\n",
      "Temperatura C (C)         0\n",
      "Humedad R C (%HR)         0\n",
      "Tr techo ('C)             0\n",
      "CO2 C (ppm)               0\n",
      "Presion Policrom (mbr)    0\n",
      "Tr suelo C ('C)           0\n",
      "Tr aire inf ('C)          0\n",
      "Tr aire sup ('C)          0\n",
      "Tp_suavizada              5\n",
      "CO2p_suavizado            5\n",
      "dtype: int64\n"
     ]
    },
    {
     "data": {
      "image/png": "[encoded data removed]",
      "text/plain": [
       "<Figure size 216x216 with 1 Axes>"
      ]
     },
     "metadata": {
      "needs_background": "light"
     },
     "output_type": "display_data"
    },
    {
     "data": {
      "image/png": "[encoded data removed]",
      "text/plain": [
       "<Figure size 216x216 with 1 Axes>"
      ]
     },
     "metadata": {
      "needs_background": "light"
     },
     "output_type": "display_data"
    }
   ],
   "source": [
    "VerDatos(\"./altamira/2021/10. OCTUBRE/ZONA POLICROMOS.xlsx\", 'Octubre2021')"
   ]
  },
  {
   "cell_type": "code",
   "execution_count": 32,
   "metadata": {},
   "outputs": [
    {
     "name": "stdout",
     "output_type": "stream",
     "text": [
      "Noviembre2021\n",
      "Nans por columnas del archivo cruce\n",
      "Unnamed: 0                    0\n",
      "Fecha/Tiempo                  0\n",
      "Temperatura C (C)         12809\n",
      "Humedad R C (%HR)         12809\n",
      "Tr techo ('C)                 0\n",
      "CO2 C (ppm)                   0\n",
      "Presion Policrom (mbr)        0\n",
      "Tr suelo C ('C)               0\n",
      "Tr aire inf ('C)              0\n",
      "Tr aire sup ('C)              0\n",
      "Tp_suavizada              12813\n",
      "CO2p_suavizado                5\n",
      "dtype: int64\n"
     ]
    },
    {
     "data": {
      "image/png": "[encoded data removed]",
      "text/plain": [
       "<Figure size 216x216 with 1 Axes>"
      ]
     },
     "metadata": {
      "needs_background": "light"
     },
     "output_type": "display_data"
    },
    {
     "data": {
      "image/png": "[encoded data removed]",
      "text/plain": [
       "<Figure size 216x216 with 1 Axes>"
      ]
     },
     "metadata": {
      "needs_background": "light"
     },
     "output_type": "display_data"
    }
   ],
   "source": [
    "VerDatos(\"./altamira/2021/11. NOVIEMBRE/ZONA POLICROMOS.xlsx\", 'Noviembre2021')"
   ]
  },
  {
   "cell_type": "code",
   "execution_count": 33,
   "metadata": {},
   "outputs": [
    {
     "name": "stdout",
     "output_type": "stream",
     "text": [
      "Diciembre2021\n",
      "Nans por columnas del archivo cruce\n",
      "Unnamed: 0                    0\n",
      "Fecha/Tiempo                  0\n",
      "Temperatura C (C)         23844\n",
      "Humedad R C (%HR)         23844\n",
      "Tr techo ('C)                 0\n",
      "CO2 C (ppm)                   0\n",
      "Presion Policrom (mbr)        0\n",
      "Tr suelo C ('C)               0\n",
      "Tr aire inf ('C)              0\n",
      "Tr aire sup ('C)              0\n",
      "Tp_suavizada              23849\n",
      "CO2p_suavizado                5\n",
      "dtype: int64\n"
     ]
    },
    {
     "data": {
      "image/png": "[encoded data removed]",
      "text/plain": [
       "<Figure size 216x216 with 1 Axes>"
      ]
     },
     "metadata": {
      "needs_background": "light"
     },
     "output_type": "display_data"
    },
    {
     "data": {
      "image/png": "[encoded data removed]",
      "text/plain": [
       "<Figure size 216x216 with 1 Axes>"
      ]
     },
     "metadata": {
      "needs_background": "light"
     },
     "output_type": "display_data"
    }
   ],
   "source": [
    "VerDatos(\"./altamira/2021/12. DICIEMBRE/ZONA POLICROMOS.xlsx\", 'Diciembre2021')"
   ]
  },
  {
   "cell_type": "code",
   "execution_count": 34,
   "metadata": {},
   "outputs": [
    {
     "name": "stdout",
     "output_type": "stream",
     "text": [
      "Enero2022\n",
      "Nans por columnas del archivo cruce\n",
      "Unnamed: 0                0\n",
      "Fecha/Tiempo              0\n",
      "Temperatura C (C)         0\n",
      "Humedad R C (%HR)         0\n",
      "Tr techo ('C)             0\n",
      "CO2 C (ppm)               0\n",
      "Presion Policrom (mbr)    0\n",
      "Tr suelo C ('C)           0\n",
      "Tr aire inf ('C)          0\n",
      "Tr aire sup ('C)          0\n",
      "Tp_suavizada              5\n",
      "CO2p_suavizado            5\n",
      "dtype: int64\n"
     ]
    },
    {
     "data": {
      "image/png": "[encoded data removed]",
      "text/plain": [
       "<Figure size 216x216 with 1 Axes>"
      ]
     },
     "metadata": {
      "needs_background": "light"
     },
     "output_type": "display_data"
    },
    {
     "data": {
      "image/png": "[encoded data removed]",
      "text/plain": [
       "<Figure size 216x216 with 1 Axes>"
      ]
     },
     "metadata": {
      "needs_background": "light"
     },
     "output_type": "display_data"
    }
   ],
   "source": [
    "VerDatos(\"./altamira/2022/1.ENERO/ZONA POLICROMOS C.xlsx\", 'Enero2022')"
   ]
  },
  {
   "cell_type": "code",
   "execution_count": 35,
   "metadata": {
    "scrolled": false
   },
   "outputs": [
    {
     "name": "stdout",
     "output_type": "stream",
     "text": [
      "Febrero2022\n",
      "Nans por columnas del archivo cruce\n",
      "Unnamed: 0                0\n",
      "Fecha/Tiempo              0\n",
      "Temperatura C (C)         0\n",
      "Humedad R C (%HR)         0\n",
      "Tr techo ('C)             0\n",
      "CO2 C (ppm)               0\n",
      "Presion Policrom (mbr)    0\n",
      "Tr suelo C ('C)           0\n",
      "Tr aire inf ('C)          0\n",
      "Tr aire sup ('C)          0\n",
      "Tp_suavizada              5\n",
      "CO2p_suavizado            5\n",
      "dtype: int64\n"
     ]
    },
    {
     "data": {
      "image/png": "[encoded data removed]",
      "text/plain": [
       "<Figure size 216x216 with 1 Axes>"
      ]
     },
     "metadata": {
      "needs_background": "light"
     },
     "output_type": "display_data"
    },
    {
     "data": {
      "image/png": "[encoded data removed]",
      "text/plain": [
       "<Figure size 216x216 with 1 Axes>"
      ]
     },
     "metadata": {
      "needs_background": "light"
     },
     "output_type": "display_data"
    }
   ],
   "source": [
    "VerDatos(\"./altamira/2022/2.FEBRERO/ZONA POLICROMOS C.xlsx\", 'Febrero2022')"
   ]
  },
  {
   "cell_type": "code",
   "execution_count": 36,
   "metadata": {
    "scrolled": false
   },
   "outputs": [
    {
     "name": "stdout",
     "output_type": "stream",
     "text": [
      "Marzo2022\n",
      "Nans por columnas del archivo cruce\n",
      "Unnamed: 0                0\n",
      "Fecha/Tiempo              0\n",
      "Temperatura C (C)         0\n",
      "Humedad R C (%HR)         0\n",
      "Tr techo ('C)             0\n",
      "CO2 C (ppm)               0\n",
      "Presion Policrom (mbr)    0\n",
      "Tr suelo C ('C)           0\n",
      "Tr aire inf ('C)          0\n",
      "Tr aire sup ('C)          0\n",
      "Tp_suavizada              5\n",
      "CO2p_suavizado            5\n",
      "dtype: int64\n"
     ]
    },
    {
     "data": {
      "image/png": "[encoded data removed]",
      "text/plain": [
       "<Figure size 216x216 with 1 Axes>"
      ]
     },
     "metadata": {
      "needs_background": "light"
     },
     "output_type": "display_data"
    },
    {
     "data": {
      "image/png": "[encoded data removed]",
      "text/plain": [
       "<Figure size 216x216 with 1 Axes>"
      ]
     },
     "metadata": {
      "needs_background": "light"
     },
     "output_type": "display_data"
    }
   ],
   "source": [
    "VerDatos(\"./altamira/2022/3.MARZO/ZONA POLICROMOS C.xlsx\", 'Marzo2022')"
   ]
  },
  {
   "cell_type": "code",
   "execution_count": 37,
   "metadata": {},
   "outputs": [
    {
     "name": "stdout",
     "output_type": "stream",
     "text": [
      "Abril2022\n",
      "Nans por columnas del archivo cruce\n",
      "Unnamed: 0                0\n",
      "Fecha/Tiempo              0\n",
      "Temperatura C (C)         0\n",
      "Humedad R C (%HR)         0\n",
      "Tr techo ('C)             0\n",
      "CO2 C (ppm)               0\n",
      "Presion Policrom (mbr)    0\n",
      "Tr suelo C ('C)           0\n",
      "Tr aire inf ('C)          0\n",
      "Tr aire sup ('C)          0\n",
      "Tp_suavizada              5\n",
      "CO2p_suavizado            5\n",
      "dtype: int64\n"
     ]
    },
    {
     "data": {
      "image/png": "[encoded data removed]",
      "text/plain": [
       "<Figure size 216x216 with 1 Axes>"
      ]
     },
     "metadata": {
      "needs_background": "light"
     },
     "output_type": "display_data"
    },
    {
     "data": {
      "image/png": "[encoded data removed]",
      "text/plain": [
       "<Figure size 216x216 with 1 Axes>"
      ]
     },
     "metadata": {
      "needs_background": "light"
     },
     "output_type": "display_data"
    }
   ],
   "source": [
    "VerDatos(\"./altamira/2022/4.ABRIL/ZONA POLICROMOS C.xlsx\", 'Abril2022')"
   ]
  },
  {
   "cell_type": "code",
   "execution_count": 38,
   "metadata": {},
   "outputs": [
    {
     "name": "stdout",
     "output_type": "stream",
     "text": [
      "Mayo2022\n",
      "Nans por columnas del archivo cruce\n",
      "Unnamed: 0                0\n",
      "Fecha/Tiempo              0\n",
      "Temperatura C (C)         0\n",
      "Humedad R C (%HR)         0\n",
      "Tr techo ('C)             0\n",
      "CO2 C (ppm)               0\n",
      "Presion Policrom (mbr)    0\n",
      "Tr suelo C ('C)           0\n",
      "Tr aire inf ('C)          0\n",
      "Tr aire sup ('C)          0\n",
      "Tp_suavizada              5\n",
      "CO2p_suavizado            5\n",
      "dtype: int64\n"
     ]
    },
    {
     "data": {
      "image/png": "[encoded data removed]",
      "text/plain": [
       "<Figure size 216x216 with 1 Axes>"
      ]
     },
     "metadata": {
      "needs_background": "light"
     },
     "output_type": "display_data"
    },
    {
     "data": {
      "image/png": "[encoded data removed]",
      "text/plain": [
       "<Figure size 216x216 with 1 Axes>"
      ]
     },
     "metadata": {
      "needs_background": "light"
     },
     "output_type": "display_data"
    }
   ],
   "source": [
    "VerDatos(\"./altamira/2022/5.MAYO/ZONA POLICROMOS.xlsx\", 'Mayo2022')"
   ]
  },
  {
   "cell_type": "code",
   "execution_count": 39,
   "metadata": {
    "scrolled": false
   },
   "outputs": [
    {
     "name": "stdout",
     "output_type": "stream",
     "text": [
      "Junio2022\n",
      "Nans por columnas del archivo cruce\n",
      "Unnamed: 0                0\n",
      "Fecha/Tiempo              0\n",
      "Temperatura C (C)         0\n",
      "Humedad R C (%HR)         0\n",
      "Tr techo ('C)             0\n",
      "CO2 C (ppm)               0\n",
      "Presion Policrom (mbr)    0\n",
      "Tr suelo C ('C)           0\n",
      "Tr aire inf ('C)          0\n",
      "Tr aire sup ('C)          0\n",
      "Tp_suavizada              5\n",
      "CO2p_suavizado            5\n",
      "dtype: int64\n"
     ]
    },
    {
     "data": {
      "image/png": "[encoded data removed]",
      "text/plain": [
       "<Figure size 216x216 with 1 Axes>"
      ]
     },
     "metadata": {
      "needs_background": "light"
     },
     "output_type": "display_data"
    },
    {
     "data": {
      "image/png": "[encoded data removed]",
      "text/plain": [
       "<Figure size 216x216 with 1 Axes>"
      ]
     },
     "metadata": {
      "needs_background": "light"
     },
     "output_type": "display_data"
    }
   ],
   "source": [
    "VerDatos(\"./altamira/2022/6. JUNIO/ZONA POLICROMOS C.xlsx\", 'Junio2022')"
   ]
  },
  {
   "cell_type": "code",
   "execution_count": 41,
   "metadata": {},
   "outputs": [
    {
     "name": "stdout",
     "output_type": "stream",
     "text": [
      "Julio2022\n",
      "Nans por columnas del archivo cruce\n",
      "Unnamed: 0                0\n",
      "Unnamed: 0.1              0\n",
      "Fecha/Tiempo              0\n",
      "Temperatura C (C)         0\n",
      "Humedad R C (%HR)         0\n",
      "Tr techo ('C)             0\n",
      "CO2 C (ppm)               0\n",
      "Presion Policrom (mbr)    0\n",
      "Tr suelo C ('C)           0\n",
      "Tr aire inf ('C)          0\n",
      "Tr aire sup ('C)          0\n",
      "Tp_suavizada              4\n",
      "CO2p_suavizado            4\n",
      "dtype: int64\n"
     ]
    },
    {
     "data": {
      "image/png": "[encoded data removed]",
      "text/plain": [
       "<Figure size 216x216 with 1 Axes>"
      ]
     },
     "metadata": {
      "needs_background": "light"
     },
     "output_type": "display_data"
    },
    {
     "data": {
      "image/png": "[encoded data removed]",
      "text/plain": [
       "<Figure size 216x216 with 1 Axes>"
      ]
     },
     "metadata": {
      "needs_background": "light"
     },
     "output_type": "display_data"
    }
   ],
   "source": [
    "VerDatos(\"./altamira/2022/7.JULIO/ZONA POLICROMOS C.xlsx\", 'Julio2022')"
   ]
  },
  {
   "cell_type": "code",
   "execution_count": 42,
   "metadata": {},
   "outputs": [
    {
     "name": "stdout",
     "output_type": "stream",
     "text": [
      "Agosto2022\n",
      "Nans por columnas del archivo cruce\n",
      "Unnamed: 0                0\n",
      "Fecha/Tiempo              0\n",
      "Temperatura C (C)         0\n",
      "Humedad R C (%HR)         0\n",
      "Tr techo ('C)             0\n",
      "CO2 C (ppm)               0\n",
      "Presion Policrom (mbr)    0\n",
      "Tr suelo C ('C)           0\n",
      "Tr aire inf ('C)          0\n",
      "Tr aire sup ('C)          0\n",
      "Tp_suavizada              5\n",
      "CO2p_suavizado            5\n",
      "dtype: int64\n"
     ]
    },
    {
     "data": {
      "image/png": "[encoded data removed]",
      "text/plain": [
       "<Figure size 216x216 with 1 Axes>"
      ]
     },
     "metadata": {
      "needs_background": "light"
     },
     "output_type": "display_data"
    },
    {
     "data": {
      "image/png": "[encoded data removed]",
      "text/plain": [
       "<Figure size 216x216 with 1 Axes>"
      ]
     },
     "metadata": {
      "needs_background": "light"
     },
     "output_type": "display_data"
    }
   ],
   "source": [
    "VerDatos(\"./altamira/2022/8. AGOSTO/ZONA POLICROMOS C.xlsx\", 'Agosto2022')"
   ]
  },
  {
   "cell_type": "code",
   "execution_count": 43,
   "metadata": {},
   "outputs": [
    {
     "name": "stdout",
     "output_type": "stream",
     "text": [
      "Septiembre2022\n",
      "Nans por columnas del archivo cruce\n",
      "Unnamed: 0                   0\n",
      "Fecha/Tiempo                 0\n",
      "Temperatura C (C)         1120\n",
      "Humedad R C (%HR)         1120\n",
      "Tr techo ('C)             1120\n",
      "CO2 C (ppm)               1120\n",
      "Presion Policrom (mbr)    1120\n",
      "Tr suelo C ('C)           1120\n",
      "Tr aire inf ('C)          1120\n",
      "Tr aire sup ('C)          1120\n",
      "Tp_suavizada              1129\n",
      "CO2p_suavizado            1129\n",
      "dtype: int64\n"
     ]
    },
    {
     "data": {
      "image/png": "[encoded data removed]",
      "text/plain": [
       "<Figure size 216x216 with 1 Axes>"
      ]
     },
     "metadata": {
      "needs_background": "light"
     },
     "output_type": "display_data"
    },
    {
     "data": {
      "image/png": "[encoded data removed]",
      "text/plain": [
       "<Figure size 216x216 with 1 Axes>"
      ]
     },
     "metadata": {
      "needs_background": "light"
     },
     "output_type": "display_data"
    }
   ],
   "source": [
    "VerDatos(\"./altamira/2022/9. SEPTIEMBRE/ZONA POLICROMOS C.xlsx\", 'Septiembre2022')"
   ]
  },
  {
   "cell_type": "code",
   "execution_count": 44,
   "metadata": {},
   "outputs": [
    {
     "name": "stdout",
     "output_type": "stream",
     "text": [
      "Octubre2022\n",
      "Nans por columnas del archivo cruce\n",
      "Unnamed: 0                0\n",
      "Fecha/Tiempo              0\n",
      "Temperatura C (C)         0\n",
      "Humedad R C (%HR)         0\n",
      "Tr techo ('C)             0\n",
      "CO2 C (ppm)               0\n",
      "Presion Policrom (mbr)    0\n",
      "Tr suelo C ('C)           0\n",
      "Tr aire inf ('C)          0\n",
      "Tr aire sup ('C)          0\n",
      "Tp_suavizada              5\n",
      "CO2p_suavizado            5\n",
      "dtype: int64\n"
     ]
    },
    {
     "data": {
      "image/png": "[encoded data removed]",
      "text/plain": [
       "<Figure size 216x216 with 1 Axes>"
      ]
     },
     "metadata": {
      "needs_background": "light"
     },
     "output_type": "display_data"
    },
    {
     "data": {
      "image/png": "[encoded data removed]",
      "text/plain": [
       "<Figure size 216x216 with 1 Axes>"
      ]
     },
     "metadata": {
      "needs_background": "light"
     },
     "output_type": "display_data"
    }
   ],
   "source": [
    "VerDatos(\"./altamira/2022/10. OCTUBRE/ZONA POLICROMOS C.xlsx\", 'Octubre2022')"
   ]
  },
  {
   "cell_type": "code",
   "execution_count": 45,
   "metadata": {},
   "outputs": [
    {
     "name": "stdout",
     "output_type": "stream",
     "text": [
      "Noviembre2022\n",
      "Nans por columnas del archivo cruce\n",
      "Unnamed: 0                0\n",
      "Fecha/Tiempo              0\n",
      "Temperatura C (C)         0\n",
      "Humedad R C (%HR)         0\n",
      "Tr techo ('C)             0\n",
      "CO2 C (ppm)               0\n",
      "Presion Policrom (mbr)    0\n",
      "Tr suelo C ('C)           0\n",
      "Tr aire inf ('C)          0\n",
      "Tr aire sup ('C)          0\n",
      "Tp_suavizada              5\n",
      "CO2p_suavizado            5\n",
      "dtype: int64\n"
     ]
    },
    {
     "data": {
      "image/png": "[encoded data removed]",
      "text/plain": [
       "<Figure size 216x216 with 1 Axes>"
      ]
     },
     "metadata": {
      "needs_background": "light"
     },
     "output_type": "display_data"
    },
    {
     "data": {
      "image/png": "[encoded data removed]",
      "text/plain": [
       "<Figure size 216x216 with 1 Axes>"
      ]
     },
     "metadata": {
      "needs_background": "light"
     },
     "output_type": "display_data"
    }
   ],
   "source": [
    "VerDatos(\"./altamira/2022/11. NOVIEMBRE/ZONA POLICROMOS C.xlsx\", 'Noviembre2022')"
   ]
  },
  {
   "cell_type": "code",
   "execution_count": 46,
   "metadata": {},
   "outputs": [
    {
     "name": "stdout",
     "output_type": "stream",
     "text": [
      "Diciembre2022\n",
      "Nans por columnas del archivo cruce\n",
      "Unnamed: 0                0\n",
      "Fecha/Tiempo              0\n",
      "Temperatura C (C)         0\n",
      "Humedad R C (%HR)         0\n",
      "Tr techo ('C)             0\n",
      "CO2 C (ppm)               0\n",
      "Presion Policrom (mbr)    0\n",
      "Tr suelo C ('C)           0\n",
      "Tr aire inf ('C)          0\n",
      "Tr aire sup ('C)          0\n",
      "Tp_suavizada              5\n",
      "CO2p_suavizado            5\n",
      "dtype: int64\n"
     ]
    },
    {
     "data": {
      "image/png": "[encoded data removed]",
      "text/plain": [
       "<Figure size 216x216 with 1 Axes>"
      ]
     },
     "metadata": {
      "needs_background": "light"
     },
     "output_type": "display_data"
    },
    {
     "data": {
      "image/png": "[encoded data removed]",
      "text/plain": [
       "<Figure size 216x216 with 1 Axes>"
      ]
     },
     "metadata": {
      "needs_background": "light"
     },
     "output_type": "display_data"
    }
   ],
   "source": [
    "VerDatos(\"./altamira/2022/12. DICIEMBRE/ZONA POLICROMOS.xlsx\", 'Diciembre2022')"
   ]
  }
 ],
 "metadata": {
  "kernelspec": {
   "display_name": "Python 3",
   "language": "python",
   "name": "python3"
  },
  "language_info": {
   "codemirror_mode": {
    "name": "ipython",
    "version": 3
   },
   "file_extension": ".py",
   "mimetype": "text/x-python",
   "name": "python",
   "nbconvert_exporter": "python",
   "pygments_lexer": "ipython3",
   "version": "3.8.3"
  }
 },
 "nbformat": 4,
 "nbformat_minor": 4
}

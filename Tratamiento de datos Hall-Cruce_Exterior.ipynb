{
 "cells": [
  {
   "cell_type": "code",
   "execution_count": 7,
   "metadata": {},
   "outputs": [],
   "source": [
    "import pandas as pd\n",
    "import numpy as np\n",
    "import matplotlib.pyplot as plt"
   ]
  },
  {
   "cell_type": "markdown",
   "metadata": {},
   "source": [
    "# Corregir los outliers y ver qué datos faltan\n",
    "\n",
    "Para estudiar si la causa de la oscilación diaria de temperaturas en el Cruce es un intercambio de aire por el Hall se usarán \n",
    "datos de los archivos Cruce('Temperatura D (° C)'), Exterior(\"Tr Exterior (C Tr)\") y Entrada(Temperatura A (° C))\n",
    "Luego tambn estudiar si el intercambio es por la roca, necesarios datos de CO2"
   ]
  },
  {
   "cell_type": "code",
   "execution_count": 5,
   "metadata": {},
   "outputs": [],
   "source": [
    "\n",
    "def VerDatos(FicheroEntrada, mesAño):#CO2 A (ppm)\n",
    "    print(mesAño)\n",
    "    #leer datos\n",
    "    Entrada = pd.read_excel(FicheroEntrada)\n",
    "    #Ver cómo están los datos de entrada, en especial 'Temperatura A (° C)'\n",
    "    print('Nans por columnas del archivo cruce')\n",
    "    print(Entrada.isnull().sum())\n",
    "    histRawTc = Entrada.hist(figsize = (3,3), column='Temperatura A (° C)')\n",
    "    histRawCO2 = Entrada.hist(figsize = (3,3), column='CO2 A (ppm)')\n",
    "    print('len Th:', len(Entrada['Temperatura A (° C)']), 'len CO2 hall:', len(Entrada['CO2 A (ppm)']))\n",
    "\n",
    "def CorregirOutliers(FicheroEntrada, Thmin, Thmax):\n",
    "    #solo de temperaturas que es lo que se estudia\n",
    "    #leer datos\n",
    "    Entrada = pd.read_excel(FicheroEntrada)\n",
    "    #Corregir outliers Th:\n",
    "    Entrada = Entrada.loc[Entrada['Temperatura A (° C)'] > Thmax, 'Temperatura A (° C)'] = np.nan \n",
    "    Entrada.loc[Entrada['Temperatura A (° C)'] < Thmin, 'Temperatura A (° C)'] = np.nan\n",
    "    \n",
    "    #pintar las correciones por comprobar:\n",
    "    histRawTh = Entrada.hist(figsize = (3,3), column='Temperatura A (° C)')\n",
    "    #Guardarlos en el propio archivo corregidos:\n",
    "    "
   ]
  },
  {
   "cell_type": "code",
   "execution_count": 6,
   "metadata": {},
   "outputs": [
    {
     "name": "stdout",
     "output_type": "stream",
     "text": [
      "Octubre2020\n",
      "Nans por columnas del archivo cruce\n",
      "Unnamed: 0                0\n",
      "Unnamed: 0.1              0\n",
      "Unnamed: 0.1.1            0\n",
      "Unnamed: 0.1.1.1          0\n",
      "Fecha/Tiempo              0\n",
      "Temperatura A (° C)       0\n",
      "tr aire inf ('C)          0\n",
      "tr aire sup ('C)          0\n",
      "tr cont inf ('C)          0\n",
      "Humedad R  A (% Hr)       0\n",
      "tr cont sup ('C)          0\n",
      "CO2 A (ppm)               0\n",
      "Presion entrada (mbar)    0\n",
      "Th_suavizada              5\n",
      "CO2h_suavizado            5\n",
      "dtype: int64\n",
      "len Th: 2878 len CO2 hall: 2878\n"
     ]
    },
    {
     "data": {
      "image/png": "[encoded data removed]",
      "text/plain": [
       "<Figure size 216x216 with 1 Axes>"
      ]
     },
     "metadata": {
      "needs_background": "light"
     },
     "output_type": "display_data"
    },
    {
     "data": {
      "image/png": "[encoded data removed]",
      "text/plain": [
       "<Figure size 216x216 with 1 Axes>"
      ]
     },
     "metadata": {
      "needs_background": "light"
     },
     "output_type": "display_data"
    }
   ],
   "source": [
    "VerDatos(\"./altamira/2020/10.OCTUBRE/ZONA ENTRADA.xlsx\", 'Octubre2020')"
   ]
  },
  {
   "cell_type": "code",
   "execution_count": 59,
   "metadata": {},
   "outputs": [
    {
     "data": {
      "text/plain": [
       "Index(['Unnamed: 0', 'Unnamed: 0.1', 'Unnamed: 0.1.1', 'Unnamed: 0.1.1.1',\n",
       "       'Fecha/Tiempo', 'Temperatura A (° C)', 'tr aire inf ('C)',\n",
       "       'tr aire sup ('C)', 'tr cont inf ('C)', 'Humedad R  A (% Hr)',\n",
       "       'tr cont sup ('C)', 'CO2 A (ppm)', 'Presion entrada (mbar)',\n",
       "       'Th_suavizada'],\n",
       "      dtype='object')"
      ]
     },
     "execution_count": 59,
     "metadata": {},
     "output_type": "execute_result"
    }
   ],
   "source": [
    "df= pd.read_excel(\"./altamira/2022/12. DICIEMBRE/ZONA ENTRADA A.xlsx\")\n",
    "df.columns"
   ]
  },
  {
   "cell_type": "code",
   "execution_count": 60,
   "metadata": {
    "scrolled": false
   },
   "outputs": [],
   "source": [
    "# #2020:\n",
    "# VerDatos(\"./altamira/2020/10.OCTUBRE/ZONA ENTRADA.xlsx\", 'Octubre2020')\n",
    "# VerDatos(\"./altamira/2020/11.NOVIEMBRE/ZONA ENTRADA A.xlsx\", 'Noviembre2020')\n",
    "# VerDatos(\"./altamira/2020/12.DICIEMBRE/ZONA ENTRADA A.xlsx\", 'Diciembre2020')\n",
    "# #2021:\n",
    "# VerDatos(\"./altamira/2021/1.ENERO/ZONA ENTRADA ENERO.xlsx\", 'Enero2021')\n",
    "# VerDatos(\"./altamira/2021/2.FEBRERO/ZONA ENTRADA A.xlsx\", 'Febrero2021')\n",
    "# VerDatos(\"./altamira/2021/3.MARZO/ZONA ENTRADA A.xlsx\", 'Marzo2021')\n",
    "# VerDatos(\"./altamira/2021/4.ABRIL/ZONA ENTRADA.xlsx\", 'Abril2021')\n",
    "# VerDatos(\"./altamira/2021/5.MAYO/ZONA ENTRADA A.xlsx\", 'Mayo2021')\n",
    "# VerDatos(\"./altamira/2021/6.JUNIO/ZONA ENTRADA A.xlsx\", 'Junio2021')\n",
    "# VerDatos(\"./altamira/2021/7.JULIO/ZONA ENTRADA A.xlsx\", 'Julio2021')\n",
    "# VerDatos(\"./altamira/2021/8.AGOSTO/ZONA ENTRADA A.xlsx\", 'Agosto2021')\n",
    "# VerDatos(\"./altamira/2021/9. SEPTIEMBRE/ZONA ENTRADA A.xlsx\", 'Septiembre2021')\n",
    "# VerDatos(\"./altamira/2021/10. OCTUBRE/ZONA ENTRADA A.xlsx\", 'Octubre2021')\n",
    "# VerDatos(\"./altamira/2021/11. NOVIEMBRE/ZONA ENTRADA A.xlsx\", 'Noviembre2021')\n",
    "# VerDatos(\"./altamira/2021/12. DICIEMBRE/ZONA ENTRADA.xlsx\", 'Diciembre2021')\n",
    "# #2022:\n",
    "# VerDatos(\"./altamira/2022/1.ENERO/ZONA ENTRADA A.xlsx\", 'Enero2022')\n",
    "# VerDatos(\"./altamira/2022/2.FEBRERO/ZONA ENTRADA A.xlsx\", 'Febrero2022')\n",
    "# VerDatos(\"./altamira/2022/3.MARZO/ZONA ENTRADA A.xlsx\", 'Marzo2022')\n",
    "# VerDatos(\"./altamira/2022/4.ABRIL/ZONA ENTRADA A.xlsx\", 'Abril2022')\n",
    "# VerDatos(\"./altamira/2022/5.MAYO/ZONA ENTRADA.xlsx\", 'Mayo2022')\n",
    "# VerDatos(\"./altamira/2022/6. JUNIO/ZONA ENTRADA.xlsx\", 'Junio2022')\n",
    "# VerDatos(\"./altamira/2022/7.JULIO/ZONA ENTRADA A.xlsx\", 'Julio2022')\n",
    "# VerDatos(\"./altamira/2022/8. AGOSTO/ZONA ENTRADA A.xlsx\", 'Agosto2022')\n",
    "# VerDatos(\"./altamira/2022/9. SEPTIEMBRE/ZONA ENTRADA A.xlsx\", 'Septiembre2022')\n",
    "# VerDatos(\"./altamira/2022/10. OCTUBRE/ZONA ENTRADA A.xlsx\", 'Octubre2022')\n",
    "# VerDatos(\"./altamira/2022/11. NOVIEMBRE/ZONA ENTRADA A.xlsx\", 'Noviembre2022')\n",
    "# VerDatos(\"./altamira/2022/12. DICIEMBRE/ZONA ENTRADA A.xlsx\", 'Diciembre2022')"
   ]
  },
  {
   "cell_type": "code",
   "execution_count": 61,
   "metadata": {},
   "outputs": [
    {
     "name": "stdout",
     "output_type": "stream",
     "text": [
      "Octubre2020\n",
      "Nans por columnas del archivo cruce\n",
      "Unnamed: 0                0\n",
      "Unnamed: 0.1              0\n",
      "Unnamed: 0.1.1            0\n",
      "Fecha/Tiempo              0\n",
      "Temperatura A (° C)       0\n",
      "tr aire inf ('C)          0\n",
      "tr aire sup ('C)          0\n",
      "tr cont inf ('C)          0\n",
      "Humedad R  A (% Hr)       0\n",
      "tr cont sup ('C)          0\n",
      "CO2 A (ppm)               0\n",
      "Presion entrada (mbar)    0\n",
      "Th_suavizada              5\n",
      "dtype: int64\n",
      "len Th: 2976 len CO2 hall: 2976\n"
     ]
    },
    {
     "data": {
      "image/png": "[encoded data removed]",
      "text/plain": [
       "<Figure size 216x216 with 1 Axes>"
      ]
     },
     "metadata": {
      "needs_background": "light"
     },
     "output_type": "display_data"
    },
    {
     "data": {
      "image/png": "[encoded data removed]",
      "text/plain": [
       "<Figure size 216x216 with 1 Axes>"
      ]
     },
     "metadata": {
      "needs_background": "light"
     },
     "output_type": "display_data"
    }
   ],
   "source": [
    "VerDatos(\"./altamira/2020/10.OCTUBRE/ZONA ENTRADA.xlsx\", 'Octubre2020')"
   ]
  },
  {
   "cell_type": "code",
   "execution_count": 62,
   "metadata": {},
   "outputs": [
    {
     "name": "stdout",
     "output_type": "stream",
     "text": [
      "Noviembre2020\n",
      "Nans por columnas del archivo cruce\n",
      "Unnamed: 0                0\n",
      "Unnamed: 0.1              0\n",
      "Unnamed: 0.1.1            0\n",
      "Unnamed: 0.1.1.1          0\n",
      "Fecha/Tiempo              0\n",
      "Temperatura A (° C)       0\n",
      "tr aire inf ('C)          0\n",
      "tr aire sup ('C)          0\n",
      "tr cont inf ('C)          0\n",
      "Humedad R  A (% Hr)       0\n",
      "tr cont sup ('C)          0\n",
      "CO2 A (ppm)               0\n",
      "Presion entrada (mbar)    0\n",
      "Th_suavizada              5\n",
      "dtype: int64\n",
      "len Th: 2880 len CO2 hall: 2880\n"
     ]
    },
    {
     "data": {
      "image/png": "[encoded data removed]",
      "text/plain": [
       "<Figure size 216x216 with 1 Axes>"
      ]
     },
     "metadata": {
      "needs_background": "light"
     },
     "output_type": "display_data"
    },
    {
     "data": {
      "image/png": "[encoded data removed]",
      "text/plain": [
       "<Figure size 216x216 with 1 Axes>"
      ]
     },
     "metadata": {
      "needs_background": "light"
     },
     "output_type": "display_data"
    }
   ],
   "source": [
    "VerDatos(\"./altamira/2020/11.NOVIEMBRE/ZONA ENTRADA A.xlsx\", 'Noviembre2020')"
   ]
  },
  {
   "cell_type": "code",
   "execution_count": 63,
   "metadata": {},
   "outputs": [
    {
     "name": "stdout",
     "output_type": "stream",
     "text": [
      "Diciembre2020\n",
      "Nans por columnas del archivo cruce\n",
      "Unnamed: 0                0\n",
      "Unnamed: 0.1              0\n",
      "Unnamed: 0.1.1            0\n",
      "Unnamed: 0.1.1.1          0\n",
      "Unnamed: 0.1.1.1.1        0\n",
      "Unnamed: 0.1.1.1.1.1      0\n",
      "Fecha/Tiempo              0\n",
      "Temperatura A (° C)       0\n",
      "tr aire inf ('C)          1\n",
      "tr aire sup ('C)          1\n",
      "tr cont inf ('C)          1\n",
      "Humedad R  A (% Hr)       0\n",
      "tr cont sup ('C)          2\n",
      "CO2 A (ppm)               0\n",
      "Presion entrada (mbar)    0\n",
      "Th_suavizada              5\n",
      "dtype: int64\n",
      "len Th: 2976 len CO2 hall: 2976\n"
     ]
    },
    {
     "data": {
      "image/png": "[encoded data removed]",
      "text/plain": [
       "<Figure size 216x216 with 1 Axes>"
      ]
     },
     "metadata": {
      "needs_background": "light"
     },
     "output_type": "display_data"
    },
    {
     "data": {
      "image/png": "[encoded data removed]",
      "text/plain": [
       "<Figure size 216x216 with 1 Axes>"
      ]
     },
     "metadata": {
      "needs_background": "light"
     },
     "output_type": "display_data"
    }
   ],
   "source": [
    "VerDatos(\"./altamira/2020/12.DICIEMBRE/ZONA ENTRADA A.xlsx\", 'Diciembre2020')"
   ]
  },
  {
   "cell_type": "code",
   "execution_count": 64,
   "metadata": {},
   "outputs": [
    {
     "name": "stdout",
     "output_type": "stream",
     "text": [
      "Enero2021\n",
      "Nans por columnas del archivo cruce\n",
      "Unnamed: 0                 0\n",
      "Unnamed: 0.1               0\n",
      "Unnamed: 0.1.1             0\n",
      "Fecha/Tiempo               0\n",
      "Temperatura A (° C)        0\n",
      "tr aire inf ('C)           0\n",
      "tr aire sup ('C)           0\n",
      "tr cont inf ('C)           0\n",
      "Humedad R  A (% Hr)       25\n",
      "tr cont sup ('C)           0\n",
      "CO2 A (ppm)               25\n",
      "Presion entrada (mbar)    25\n",
      "Th_suavizada               5\n",
      "dtype: int64\n",
      "len Th: 2976 len CO2 hall: 2976\n"
     ]
    },
    {
     "data": {
      "image/png": "[encoded data removed]",
      "text/plain": [
       "<Figure size 216x216 with 1 Axes>"
      ]
     },
     "metadata": {
      "needs_background": "light"
     },
     "output_type": "display_data"
    },
    {
     "data": {
      "image/png": "[encoded data removed]",
      "text/plain": [
       "<Figure size 216x216 with 1 Axes>"
      ]
     },
     "metadata": {
      "needs_background": "light"
     },
     "output_type": "display_data"
    }
   ],
   "source": [
    "VerDatos(\"./altamira/2021/1.ENERO/ZONA ENTRADA ENERO.xlsx\", 'Enero2021')"
   ]
  },
  {
   "cell_type": "code",
   "execution_count": 65,
   "metadata": {},
   "outputs": [
    {
     "name": "stdout",
     "output_type": "stream",
     "text": [
      "Febrero2021\n",
      "Nans por columnas del archivo cruce\n",
      "Unnamed: 0                0\n",
      "Unnamed: 0.1              0\n",
      "Unnamed: 0.1.1            0\n",
      "Fecha/Tiempo              0\n",
      "Temperatura A (° C)       0\n",
      "tr aire inf ('C)          0\n",
      "tr aire sup ('C)          0\n",
      "tr cont inf ('C)          0\n",
      "Humedad R  A (% Hr)       0\n",
      "tr cont sup ('C)          0\n",
      "CO2 A (ppm)               0\n",
      "Presion entrada (mbar)    0\n",
      "Th_suavizada              5\n",
      "dtype: int64\n",
      "len Th: 2688 len CO2 hall: 2688\n"
     ]
    },
    {
     "data": {
      "image/png": "[encoded data removed]",
      "text/plain": [
       "<Figure size 216x216 with 1 Axes>"
      ]
     },
     "metadata": {
      "needs_background": "light"
     },
     "output_type": "display_data"
    },
    {
     "data": {
      "image/png": "[encoded data removed]",
      "text/plain": [
       "<Figure size 216x216 with 1 Axes>"
      ]
     },
     "metadata": {
      "needs_background": "light"
     },
     "output_type": "display_data"
    }
   ],
   "source": [
    "VerDatos(\"./altamira/2021/2.FEBRERO/ZONA ENTRADA A.xlsx\", 'Febrero2021')"
   ]
  },
  {
   "cell_type": "code",
   "execution_count": 66,
   "metadata": {},
   "outputs": [
    {
     "name": "stdout",
     "output_type": "stream",
     "text": [
      "Marzo2021\n",
      "Nans por columnas del archivo cruce\n",
      "Unnamed: 0                0\n",
      "Unnamed: 0.1              0\n",
      "Unnamed: 0.1.1            0\n",
      "Unnamed: 0.1.1.1          0\n",
      "Fecha/Tiempo              0\n",
      "Temperatura A (° C)       0\n",
      "tr aire inf ('C)          0\n",
      "tr aire sup ('C)          0\n",
      "tr cont inf ('C)          0\n",
      "Humedad R  A (% Hr)       0\n",
      "tr cont sup ('C)          0\n",
      "CO2 A (ppm)               0\n",
      "Presion entrada (mbar)    0\n",
      "Th_suavizada              5\n",
      "dtype: int64\n",
      "len Th: 2976 len CO2 hall: 2976\n"
     ]
    },
    {
     "data": {
      "image/png": "[encoded data removed]",
      "text/plain": [
       "<Figure size 216x216 with 1 Axes>"
      ]
     },
     "metadata": {
      "needs_background": "light"
     },
     "output_type": "display_data"
    },
    {
     "data": {
      "image/png": "[encoded data removed]",
      "text/plain": [
       "<Figure size 216x216 with 1 Axes>"
      ]
     },
     "metadata": {
      "needs_background": "light"
     },
     "output_type": "display_data"
    }
   ],
   "source": [
    "VerDatos(\"./altamira/2021/3.MARZO/ZONA ENTRADA A.xlsx\", 'Marzo2021')"
   ]
  },
  {
   "cell_type": "code",
   "execution_count": 67,
   "metadata": {},
   "outputs": [
    {
     "name": "stdout",
     "output_type": "stream",
     "text": [
      "Abril2021\n",
      "Nans por columnas del archivo cruce\n",
      "Unnamed: 0                0\n",
      "Unnamed: 0.1              0\n",
      "Unnamed: 0.1.1            0\n",
      "Fecha/Tiempo              0\n",
      "Temperatura A (° C)       0\n",
      "tr aire inf ('C)          0\n",
      "tr aire sup ('C)          0\n",
      "tr cont inf ('C)          0\n",
      "Humedad R  A (% Hr)       0\n",
      "tr cont sup ('C)          0\n",
      "CO2 A (ppm)               0\n",
      "Presion entrada (mbar)    0\n",
      "Th_suavizada              5\n",
      "dtype: int64\n",
      "len Th: 2880 len CO2 hall: 2880\n"
     ]
    },
    {
     "data": {
      "image/png": "[encoded data removed]",
      "text/plain": [
       "<Figure size 216x216 with 1 Axes>"
      ]
     },
     "metadata": {
      "needs_background": "light"
     },
     "output_type": "display_data"
    },
    {
     "data": {
      "image/png": "[encoded data removed]",
      "text/plain": [
       "<Figure size 216x216 with 1 Axes>"
      ]
     },
     "metadata": {
      "needs_background": "light"
     },
     "output_type": "display_data"
    }
   ],
   "source": [
    "VerDatos(\"./altamira/2021/4.ABRIL/ZONA ENTRADA.xlsx\", 'Abril2021')"
   ]
  },
  {
   "cell_type": "code",
   "execution_count": 68,
   "metadata": {},
   "outputs": [
    {
     "name": "stdout",
     "output_type": "stream",
     "text": [
      "Mayo2021\n",
      "Nans por columnas del archivo cruce\n",
      "Unnamed: 0                   0\n",
      "Unnamed: 0.1                 0\n",
      "Unnamed: 0.1.1               0\n",
      "Fecha/Tiempo                 0\n",
      "Temperatura A (° C)         20\n",
      "tr aire inf ('C)            20\n",
      "tr aire sup ('C)            20\n",
      "tr cont inf ('C)            20\n",
      "Humedad R  A (% Hr)       1585\n",
      "tr cont sup ('C)            20\n",
      "CO2 A (ppm)                 20\n",
      "Presion entrada (mbar)      20\n",
      "Th_suavizada                29\n",
      "dtype: int64\n",
      "len Th: 2976 len CO2 hall: 2976\n"
     ]
    },
    {
     "data": {
      "image/png": "[encoded data removed]",
      "text/plain": [
       "<Figure size 216x216 with 1 Axes>"
      ]
     },
     "metadata": {
      "needs_background": "light"
     },
     "output_type": "display_data"
    },
    {
     "data": {
      "image/png": "[encoded data removed]",
      "text/plain": [
       "<Figure size 216x216 with 1 Axes>"
      ]
     },
     "metadata": {
      "needs_background": "light"
     },
     "output_type": "display_data"
    }
   ],
   "source": [
    "VerDatos(\"./altamira/2021/5.MAYO/ZONA ENTRADA A.xlsx\", 'Mayo2021')"
   ]
  },
  {
   "cell_type": "code",
   "execution_count": 69,
   "metadata": {
    "scrolled": false
   },
   "outputs": [
    {
     "name": "stdout",
     "output_type": "stream",
     "text": [
      "Junio2021\n",
      "Nans por columnas del archivo cruce\n",
      "Unnamed: 0                0\n",
      "Unnamed: 0.1              0\n",
      "Unnamed: 0.1.1            0\n",
      "Unnamed: 0.1.1.1          0\n",
      "Fecha/Tiempo              0\n",
      "Temperatura A (° C)       0\n",
      "tr aire inf ('C)          0\n",
      "tr aire sup ('C)          0\n",
      "tr cont inf ('C)          0\n",
      "Humedad R  A (% Hr)       0\n",
      "tr cont sup ('C)          0\n",
      "CO2 A (ppm)               0\n",
      "Presion entrada (mbar)    0\n",
      "Th_suavizada              5\n",
      "dtype: int64\n",
      "len Th: 2880 len CO2 hall: 2880\n"
     ]
    },
    {
     "data": {
      "image/png": "[encoded data removed]",
      "text/plain": [
       "<Figure size 216x216 with 1 Axes>"
      ]
     },
     "metadata": {
      "needs_background": "light"
     },
     "output_type": "display_data"
    },
    {
     "data": {
      "image/png": "[encoded data removed]",
      "text/plain": [
       "<Figure size 216x216 with 1 Axes>"
      ]
     },
     "metadata": {
      "needs_background": "light"
     },
     "output_type": "display_data"
    }
   ],
   "source": [
    "VerDatos(\"./altamira/2021/6.JUNIO/ZONA ENTRADA A.xlsx\", 'Junio2021')"
   ]
  },
  {
   "cell_type": "code",
   "execution_count": 70,
   "metadata": {},
   "outputs": [
    {
     "name": "stdout",
     "output_type": "stream",
     "text": [
      "Julio2021\n",
      "Nans por columnas del archivo cruce\n",
      "Unnamed: 0                0\n",
      "Unnamed: 0.1              0\n",
      "Unnamed: 0.1.1            0\n",
      "Fecha/Tiempo              0\n",
      "Temperatura A (° C)       0\n",
      "tr aire inf ('C)          0\n",
      "tr aire sup ('C)          0\n",
      "tr cont inf ('C)          0\n",
      "Humedad R  A (% Hr)       0\n",
      "tr cont sup ('C)          0\n",
      "CO2 A (ppm)               1\n",
      "Presion entrada (mbar)    1\n",
      "Th_suavizada              5\n",
      "dtype: int64\n",
      "len Th: 2976 len CO2 hall: 2976\n"
     ]
    },
    {
     "data": {
      "image/png": "[encoded data removed]",
      "text/plain": [
       "<Figure size 216x216 with 1 Axes>"
      ]
     },
     "metadata": {
      "needs_background": "light"
     },
     "output_type": "display_data"
    },
    {
     "data": {
      "image/png": "[encoded data removed]",
      "text/plain": [
       "<Figure size 216x216 with 1 Axes>"
      ]
     },
     "metadata": {
      "needs_background": "light"
     },
     "output_type": "display_data"
    }
   ],
   "source": [
    "VerDatos(\"./altamira/2021/7.JULIO/ZONA ENTRADA A.xlsx\", 'Julio2021')"
   ]
  },
  {
   "cell_type": "code",
   "execution_count": 71,
   "metadata": {},
   "outputs": [
    {
     "name": "stdout",
     "output_type": "stream",
     "text": [
      "Agosto2021\n",
      "Nans por columnas del archivo cruce\n",
      "Unnamed: 0                  0\n",
      "Unnamed: 0.1                0\n",
      "Unnamed: 0.1.1              0\n",
      "Fecha/Tiempo                0\n",
      "Temperatura A (° C)        12\n",
      "tr aire inf ('C)          666\n",
      "tr aire sup ('C)          666\n",
      "tr cont inf ('C)          813\n",
      "Humedad R  A (% Hr)       666\n",
      "tr cont sup ('C)          666\n",
      "CO2 A (ppm)                 1\n",
      "Presion entrada (mbar)      1\n",
      "Th_suavizada               29\n",
      "dtype: int64\n",
      "len Th: 2976 len CO2 hall: 2976\n"
     ]
    },
    {
     "data": {
      "image/png": "[encoded data removed]",
      "text/plain": [
       "<Figure size 216x216 with 1 Axes>"
      ]
     },
     "metadata": {
      "needs_background": "light"
     },
     "output_type": "display_data"
    },
    {
     "data": {
      "image/png": "[encoded data removed]",
      "text/plain": [
       "<Figure size 216x216 with 1 Axes>"
      ]
     },
     "metadata": {
      "needs_background": "light"
     },
     "output_type": "display_data"
    }
   ],
   "source": [
    "VerDatos(\"./altamira/2021/8.AGOSTO/ZONA ENTRADA A.xlsx\", 'Agosto2021')"
   ]
  },
  {
   "cell_type": "code",
   "execution_count": 72,
   "metadata": {},
   "outputs": [
    {
     "name": "stdout",
     "output_type": "stream",
     "text": [
      "Septiembre2021\n",
      "Nans por columnas del archivo cruce\n",
      "Unnamed: 0                   0\n",
      "Unnamed: 0.1                 0\n",
      "Unnamed: 0.1.1               0\n",
      "Fecha/Tiempo                 0\n",
      "Temperatura A (° C)          5\n",
      "tr aire inf ('C)             5\n",
      "tr aire sup ('C)           676\n",
      "tr cont inf ('C)          1203\n",
      "Humedad R  A (% Hr)          5\n",
      "tr cont sup ('C)             5\n",
      "CO2 A (ppm)                  4\n",
      "Presion entrada (mbar)       0\n",
      "Th_suavizada                18\n",
      "dtype: int64\n",
      "len Th: 2880 len CO2 hall: 2880\n"
     ]
    },
    {
     "data": {
      "image/png": "[encoded data removed]",
      "text/plain": [
       "<Figure size 216x216 with 1 Axes>"
      ]
     },
     "metadata": {
      "needs_background": "light"
     },
     "output_type": "display_data"
    },
    {
     "data": {
      "image/png": "[encoded data removed]",
      "text/plain": [
       "<Figure size 216x216 with 1 Axes>"
      ]
     },
     "metadata": {
      "needs_background": "light"
     },
     "output_type": "display_data"
    }
   ],
   "source": [
    "VerDatos(\"./altamira/2021/9. SEPTIEMBRE/ZONA ENTRADA A.xlsx\", 'Septiembre2021')"
   ]
  },
  {
   "cell_type": "code",
   "execution_count": 73,
   "metadata": {},
   "outputs": [
    {
     "name": "stdout",
     "output_type": "stream",
     "text": [
      "Octubre2021\n",
      "Nans por columnas del archivo cruce\n",
      "Unnamed: 0                0\n",
      "Unnamed: 0.1              0\n",
      "Unnamed: 0.1.1            0\n",
      "Fecha/Tiempo              0\n",
      "Temperatura A (° C)       0\n",
      "tr aire inf ('C)          0\n",
      "tr aire sup ('C)          0\n",
      "tr cont inf ('C)          0\n",
      "Humedad R  A (% Hr)       0\n",
      "tr cont sup ('C)          0\n",
      "CO2 A (ppm)               0\n",
      "Presion entrada (mbar)    0\n",
      "Th_suavizada              5\n",
      "dtype: int64\n",
      "len Th: 2976 len CO2 hall: 2976\n"
     ]
    },
    {
     "data": {
      "image/png": "[encoded data removed]",
      "text/plain": [
       "<Figure size 216x216 with 1 Axes>"
      ]
     },
     "metadata": {
      "needs_background": "light"
     },
     "output_type": "display_data"
    },
    {
     "data": {
      "image/png": "[encoded data removed]",
      "text/plain": [
       "<Figure size 216x216 with 1 Axes>"
      ]
     },
     "metadata": {
      "needs_background": "light"
     },
     "output_type": "display_data"
    }
   ],
   "source": [
    "VerDatos(\"./altamira/2021/10. OCTUBRE/ZONA ENTRADA A.xlsx\", 'Octubre2021')"
   ]
  },
  {
   "cell_type": "code",
   "execution_count": 74,
   "metadata": {},
   "outputs": [
    {
     "name": "stdout",
     "output_type": "stream",
     "text": [
      "Noviembre2021\n",
      "Nans por columnas del archivo cruce\n",
      "Unnamed: 0                0\n",
      "Unnamed: 0.1              0\n",
      "Unnamed: 0.1.1            0\n",
      "Unnamed: 0.1.1.1          0\n",
      "Fecha/Tiempo              0\n",
      "Temperatura A (° C)       0\n",
      "tr aire inf ('C)          0\n",
      "tr aire sup ('C)          0\n",
      "tr cont inf ('C)          0\n",
      "Humedad R  A (% Hr)       0\n",
      "tr cont sup ('C)          0\n",
      "CO2 A (ppm)               0\n",
      "Presion entrada (mbar)    0\n",
      "Th_suavizada              5\n",
      "dtype: int64\n",
      "len Th: 2880 len CO2 hall: 2880\n"
     ]
    },
    {
     "data": {
      "image/png": "[encoded data removed]",
      "text/plain": [
       "<Figure size 216x216 with 1 Axes>"
      ]
     },
     "metadata": {
      "needs_background": "light"
     },
     "output_type": "display_data"
    },
    {
     "data": {
      "image/png": "[encoded data removed]",
      "text/plain": [
       "<Figure size 216x216 with 1 Axes>"
      ]
     },
     "metadata": {
      "needs_background": "light"
     },
     "output_type": "display_data"
    }
   ],
   "source": [
    "VerDatos(\"./altamira/2021/11. NOVIEMBRE/ZONA ENTRADA A.xlsx\", 'Noviembre2021')"
   ]
  },
  {
   "cell_type": "code",
   "execution_count": 75,
   "metadata": {},
   "outputs": [
    {
     "name": "stdout",
     "output_type": "stream",
     "text": [
      "Diciembre2021\n",
      "Nans por columnas del archivo cruce\n",
      "Unnamed: 0                0\n",
      "Unnamed: 0.1              0\n",
      "Unnamed: 0.1.1            0\n",
      "Fecha/Tiempo              0\n",
      "Temperatura A (° C)       0\n",
      "tr aire inf ('C)          0\n",
      "tr aire sup ('C)          0\n",
      "tr cont inf ('C)          0\n",
      "Humedad R  A (% Hr)       0\n",
      "tr cont sup ('C)          0\n",
      "CO2 A (ppm)               0\n",
      "Presion entrada (mbar)    0\n",
      "Th_suavizada              5\n",
      "dtype: int64\n",
      "len Th: 2976 len CO2 hall: 2976\n"
     ]
    },
    {
     "data": {
      "image/png": "[encoded data removed]",
      "text/plain": [
       "<Figure size 216x216 with 1 Axes>"
      ]
     },
     "metadata": {
      "needs_background": "light"
     },
     "output_type": "display_data"
    },
    {
     "data": {
      "image/png": "[encoded data removed]",
      "text/plain": [
       "<Figure size 216x216 with 1 Axes>"
      ]
     },
     "metadata": {
      "needs_background": "light"
     },
     "output_type": "display_data"
    }
   ],
   "source": [
    "VerDatos(\"./altamira/2021/12. DICIEMBRE/ZONA ENTRADA.xlsx\", 'Diciembre2021')"
   ]
  },
  {
   "cell_type": "code",
   "execution_count": 76,
   "metadata": {},
   "outputs": [
    {
     "name": "stdout",
     "output_type": "stream",
     "text": [
      "Enero2022\n",
      "Nans por columnas del archivo cruce\n",
      "Unnamed: 0                0\n",
      "Unnamed: 0.1              0\n",
      "Unnamed: 0.1.1            0\n",
      "Fecha/Tiempo              0\n",
      "Temperatura A (° C)       0\n",
      "tr aire inf ('C)          0\n",
      "tr aire sup ('C)          0\n",
      "tr cont inf ('C)          0\n",
      "Humedad R  A (% Hr)       0\n",
      "tr cont sup ('C)          0\n",
      "CO2 A (ppm)               0\n",
      "Presion entrada (mbar)    0\n",
      "Th_suavizada              5\n",
      "dtype: int64\n",
      "len Th: 2976 len CO2 hall: 2976\n"
     ]
    },
    {
     "data": {
      "image/png": "[encoded data removed]",
      "text/plain": [
       "<Figure size 216x216 with 1 Axes>"
      ]
     },
     "metadata": {
      "needs_background": "light"
     },
     "output_type": "display_data"
    },
    {
     "data": {
      "image/png": "[encoded data removed]",
      "text/plain": [
       "<Figure size 216x216 with 1 Axes>"
      ]
     },
     "metadata": {
      "needs_background": "light"
     },
     "output_type": "display_data"
    }
   ],
   "source": [
    "VerDatos(\"./altamira/2022/1.ENERO/ZONA ENTRADA A.xlsx\", 'Enero2022')"
   ]
  },
  {
   "cell_type": "code",
   "execution_count": 77,
   "metadata": {},
   "outputs": [
    {
     "name": "stdout",
     "output_type": "stream",
     "text": [
      "Febrero2022\n",
      "Nans por columnas del archivo cruce\n",
      "Unnamed: 0                0\n",
      "Unnamed: 0.1              0\n",
      "Unnamed: 0.1.1            0\n",
      "Fecha/Tiempo              0\n",
      "Temperatura A (° C)       0\n",
      "tr aire inf ('C)          0\n",
      "tr aire sup ('C)          0\n",
      "tr cont inf ('C)          0\n",
      "Humedad R  A (% Hr)       0\n",
      "tr cont sup ('C)          0\n",
      "CO2 A (ppm)               0\n",
      "Presion entrada (mbar)    0\n",
      "Th_suavizada              5\n",
      "dtype: int64\n",
      "len Th: 2688 len CO2 hall: 2688\n"
     ]
    },
    {
     "data": {
      "image/png": "[encoded data removed]",
      "text/plain": [
       "<Figure size 216x216 with 1 Axes>"
      ]
     },
     "metadata": {
      "needs_background": "light"
     },
     "output_type": "display_data"
    },
    {
     "data": {
      "image/png": "[encoded data removed]",
      "text/plain": [
       "<Figure size 216x216 with 1 Axes>"
      ]
     },
     "metadata": {
      "needs_background": "light"
     },
     "output_type": "display_data"
    }
   ],
   "source": [
    "VerDatos(\"./altamira/2022/2.FEBRERO/ZONA ENTRADA A.xlsx\", 'Febrero2022')"
   ]
  },
  {
   "cell_type": "code",
   "execution_count": 78,
   "metadata": {},
   "outputs": [
    {
     "name": "stdout",
     "output_type": "stream",
     "text": [
      "Marzo2022\n",
      "Nans por columnas del archivo cruce\n",
      "Unnamed: 0                  0\n",
      "Unnamed: 0.1                0\n",
      "Unnamed: 0.1.1              0\n",
      "Fecha/Tiempo                0\n",
      "Temperatura A (° C)         1\n",
      "tr aire inf ('C)          337\n",
      "tr aire sup ('C)            1\n",
      "tr cont inf ('C)          917\n",
      "Humedad R  A (% Hr)         0\n",
      "tr cont sup ('C)          917\n",
      "CO2 A (ppm)                 0\n",
      "Presion entrada (mbar)      0\n",
      "Th_suavizada               10\n",
      "dtype: int64\n",
      "len Th: 2976 len CO2 hall: 2976\n"
     ]
    },
    {
     "data": {
      "image/png": "[encoded data removed]",
      "text/plain": [
       "<Figure size 216x216 with 1 Axes>"
      ]
     },
     "metadata": {
      "needs_background": "light"
     },
     "output_type": "display_data"
    },
    {
     "data": {
      "image/png": "[encoded data removed]",
      "text/plain": [
       "<Figure size 216x216 with 1 Axes>"
      ]
     },
     "metadata": {
      "needs_background": "light"
     },
     "output_type": "display_data"
    }
   ],
   "source": [
    "VerDatos(\"./altamira/2022/3.MARZO/ZONA ENTRADA A.xlsx\", 'Marzo2022')"
   ]
  },
  {
   "cell_type": "code",
   "execution_count": 79,
   "metadata": {},
   "outputs": [
    {
     "name": "stdout",
     "output_type": "stream",
     "text": [
      "Abril2022\n",
      "Nans por columnas del archivo cruce\n",
      "Unnamed: 0                0\n",
      "Unnamed: 0.1              0\n",
      "Unnamed: 0.1.1            0\n",
      "Fecha/Tiempo              0\n",
      "Temperatura A (° C)       0\n",
      "tr aire inf ('C)          0\n",
      "tr aire sup ('C)          0\n",
      "tr cont inf ('C)          0\n",
      "Humedad R  A (% Hr)       0\n",
      "tr cont sup ('C)          0\n",
      "CO2 A (ppm)               0\n",
      "Presion entrada (mbar)    0\n",
      "Th_suavizada              5\n",
      "dtype: int64\n",
      "len Th: 2880 len CO2 hall: 2880\n"
     ]
    },
    {
     "data": {
      "image/png": "[encoded data removed]",
      "text/plain": [
       "<Figure size 216x216 with 1 Axes>"
      ]
     },
     "metadata": {
      "needs_background": "light"
     },
     "output_type": "display_data"
    },
    {
     "data": {
      "image/png": "[encoded data removed]",
      "text/plain": [
       "<Figure size 216x216 with 1 Axes>"
      ]
     },
     "metadata": {
      "needs_background": "light"
     },
     "output_type": "display_data"
    }
   ],
   "source": [
    "VerDatos(\"./altamira/2022/4.ABRIL/ZONA ENTRADA A.xlsx\", 'Abril2022')"
   ]
  },
  {
   "cell_type": "code",
   "execution_count": 80,
   "metadata": {},
   "outputs": [
    {
     "name": "stdout",
     "output_type": "stream",
     "text": [
      "Mayo2022\n",
      "Nans por columnas del archivo cruce\n",
      "Unnamed: 0                0\n",
      "Unnamed: 0.1              0\n",
      "Unnamed: 0.1.1            0\n",
      "Unnamed: 0.1.1.1          0\n",
      "Unnamed: 0.1.1.1.1        0\n",
      "Fecha/Tiempo              0\n",
      "Temperatura A (° C)       0\n",
      "tr aire inf ('C)          0\n",
      "tr aire sup ('C)          0\n",
      "tr cont inf ('C)          0\n",
      "Humedad R  A (% Hr)       0\n",
      "tr cont sup ('C)          0\n",
      "CO2 A (ppm)               0\n",
      "Presion entrada (mbar)    0\n",
      "Th_suavizada              5\n",
      "dtype: int64\n",
      "len Th: 2976 len CO2 hall: 2976\n"
     ]
    },
    {
     "data": {
      "image/png": "[encoded data removed]",
      "text/plain": [
       "<Figure size 216x216 with 1 Axes>"
      ]
     },
     "metadata": {
      "needs_background": "light"
     },
     "output_type": "display_data"
    },
    {
     "data": {
      "image/png": "[encoded data removed]",
      "text/plain": [
       "<Figure size 216x216 with 1 Axes>"
      ]
     },
     "metadata": {
      "needs_background": "light"
     },
     "output_type": "display_data"
    }
   ],
   "source": [
    "VerDatos(\"./altamira/2022/5.MAYO/ZONA ENTRADA.xlsx\", 'Mayo2022')"
   ]
  },
  {
   "cell_type": "code",
   "execution_count": 81,
   "metadata": {},
   "outputs": [
    {
     "name": "stdout",
     "output_type": "stream",
     "text": [
      "Junio2022\n",
      "Nans por columnas del archivo cruce\n",
      "Unnamed: 0                0\n",
      "Unnamed: 0.1              0\n",
      "Unnamed: 0.1.1            0\n",
      "Unnamed: 0.1.1.1          0\n",
      "Unnamed: 0.1.1.1.1        0\n",
      "Fecha/Tiempo              0\n",
      "Temperatura A (° C)       0\n",
      "tr aire inf ('C)          0\n",
      "tr aire sup ('C)          0\n",
      "tr cont inf ('C)          0\n",
      "Humedad R  A (% Hr)       0\n",
      "tr cont sup ('C)          0\n",
      "CO2 A (ppm)               0\n",
      "Presion entrada (mbar)    0\n",
      "Th_suavizada              5\n",
      "dtype: int64\n",
      "len Th: 2880 len CO2 hall: 2880\n"
     ]
    },
    {
     "data": {
      "image/png": "[encoded data removed]",
      "text/plain": [
       "<Figure size 216x216 with 1 Axes>"
      ]
     },
     "metadata": {
      "needs_background": "light"
     },
     "output_type": "display_data"
    },
    {
     "data": {
      "image/png": "[encoded data removed]",
      "text/plain": [
       "<Figure size 216x216 with 1 Axes>"
      ]
     },
     "metadata": {
      "needs_background": "light"
     },
     "output_type": "display_data"
    }
   ],
   "source": [
    "VerDatos(\"./altamira/2022/6. JUNIO/ZONA ENTRADA.xlsx\", 'Junio2022')"
   ]
  },
  {
   "cell_type": "code",
   "execution_count": 82,
   "metadata": {},
   "outputs": [
    {
     "name": "stdout",
     "output_type": "stream",
     "text": [
      "Julio2022\n",
      "Nans por columnas del archivo cruce\n",
      "Unnamed: 0                0\n",
      "Unnamed: 0.1              0\n",
      "Unnamed: 0.1.1            0\n",
      "Unnamed: 0.1.1.1          0\n",
      "Unnamed: 0.1.1.1.1        0\n",
      "Fecha/Tiempo              0\n",
      "Temperatura A (° C)       0\n",
      "tr aire inf ('C)          0\n",
      "tr aire sup ('C)          0\n",
      "tr cont inf ('C)          0\n",
      "Humedad R  A (% Hr)       0\n",
      "tr cont sup ('C)          0\n",
      "CO2 A (ppm)               0\n",
      "Presion entrada (mbar)    0\n",
      "Th_suavizada              5\n",
      "dtype: int64\n",
      "len Th: 2976 len CO2 hall: 2976\n"
     ]
    },
    {
     "data": {
      "image/png": "[encoded data removed]",
      "text/plain": [
       "<Figure size 216x216 with 1 Axes>"
      ]
     },
     "metadata": {
      "needs_background": "light"
     },
     "output_type": "display_data"
    },
    {
     "data": {
      "image/png": "[encoded data removed]",
      "text/plain": [
       "<Figure size 216x216 with 1 Axes>"
      ]
     },
     "metadata": {
      "needs_background": "light"
     },
     "output_type": "display_data"
    }
   ],
   "source": [
    "VerDatos(\"./altamira/2022/7.JULIO/ZONA ENTRADA A.xlsx\", 'Julio2022')"
   ]
  },
  {
   "cell_type": "code",
   "execution_count": 83,
   "metadata": {},
   "outputs": [
    {
     "name": "stdout",
     "output_type": "stream",
     "text": [
      "Agosto2022\n",
      "Nans por columnas del archivo cruce\n",
      "Unnamed: 0                0\n",
      "Unnamed: 0.1              0\n",
      "Unnamed: 0.1.1            0\n",
      "Unnamed: 0.1.1.1          0\n",
      "Unnamed: 0.1.1.1.1        0\n",
      "Fecha/Tiempo              0\n",
      "Temperatura A (° C)       0\n",
      "tr aire inf ('C)          0\n",
      "tr aire sup ('C)          0\n",
      "tr cont inf ('C)          0\n",
      "Humedad R  A (% Hr)       0\n",
      "tr cont sup ('C)          0\n",
      "CO2 A (ppm)               0\n",
      "Presion entrada (mbar)    0\n",
      "Th_suavizada              5\n",
      "dtype: int64\n",
      "len Th: 2976 len CO2 hall: 2976\n"
     ]
    },
    {
     "data": {
      "image/png": "[encoded data removed]",
      "text/plain": [
       "<Figure size 216x216 with 1 Axes>"
      ]
     },
     "metadata": {
      "needs_background": "light"
     },
     "output_type": "display_data"
    },
    {
     "data": {
      "image/png": "[encoded data removed]",
      "text/plain": [
       "<Figure size 216x216 with 1 Axes>"
      ]
     },
     "metadata": {
      "needs_background": "light"
     },
     "output_type": "display_data"
    }
   ],
   "source": [
    "VerDatos(\"./altamira/2022/8. AGOSTO/ZONA ENTRADA A.xlsx\", 'Agosto2022')"
   ]
  },
  {
   "cell_type": "code",
   "execution_count": 84,
   "metadata": {},
   "outputs": [
    {
     "name": "stdout",
     "output_type": "stream",
     "text": [
      "Septiembre2022\n",
      "Nans por columnas del archivo cruce\n",
      "Unnamed: 0                 0\n",
      "Unnamed: 0.1               0\n",
      "Unnamed: 0.1.1             0\n",
      "Unnamed: 0.1.1.1           0\n",
      "Unnamed: 0.1.1.1.1         0\n",
      "Fecha/Tiempo               0\n",
      "Temperatura A (° C)       64\n",
      "tr aire inf ('C)          64\n",
      "tr aire sup ('C)          64\n",
      "tr cont inf ('C)          64\n",
      "Humedad R  A (% Hr)       64\n",
      "tr cont sup ('C)          64\n",
      "CO2 A (ppm)               64\n",
      "Presion entrada (mbar)    64\n",
      "Th_suavizada              73\n",
      "dtype: int64\n",
      "len Th: 2880 len CO2 hall: 2880\n"
     ]
    },
    {
     "data": {
      "image/png": "[encoded data removed]",
      "text/plain": [
       "<Figure size 216x216 with 1 Axes>"
      ]
     },
     "metadata": {
      "needs_background": "light"
     },
     "output_type": "display_data"
    },
    {
     "data": {
      "image/png": "[encoded data removed]",
      "text/plain": [
       "<Figure size 216x216 with 1 Axes>"
      ]
     },
     "metadata": {
      "needs_background": "light"
     },
     "output_type": "display_data"
    }
   ],
   "source": [
    "VerDatos(\"./altamira/2022/9. SEPTIEMBRE/ZONA ENTRADA A.xlsx\", 'Septiembre2022')"
   ]
  },
  {
   "cell_type": "code",
   "execution_count": 85,
   "metadata": {},
   "outputs": [
    {
     "name": "stdout",
     "output_type": "stream",
     "text": [
      "Octubre2022\n",
      "Nans por columnas del archivo cruce\n",
      "Unnamed: 0                0\n",
      "Unnamed: 0.1              0\n",
      "Unnamed: 0.1.1            0\n",
      "Unnamed: 0.1.1.1          0\n",
      "Unnamed: 0.1.1.1.1        0\n",
      "Fecha/Tiempo              0\n",
      "Temperatura A (° C)       0\n",
      "tr aire inf ('C)          0\n",
      "tr aire sup ('C)          0\n",
      "tr cont inf ('C)          0\n",
      "Humedad R  A (% Hr)       0\n",
      "tr cont sup ('C)          0\n",
      "CO2 A (ppm)               0\n",
      "Presion entrada (mbar)    0\n",
      "Th_suavizada              5\n",
      "dtype: int64\n",
      "len Th: 2976 len CO2 hall: 2976\n"
     ]
    },
    {
     "data": {
      "image/png": "[encoded data removed]",
      "text/plain": [
       "<Figure size 216x216 with 1 Axes>"
      ]
     },
     "metadata": {
      "needs_background": "light"
     },
     "output_type": "display_data"
    },
    {
     "data": {
      "image/png": "[encoded data removed]",
      "text/plain": [
       "<Figure size 216x216 with 1 Axes>"
      ]
     },
     "metadata": {
      "needs_background": "light"
     },
     "output_type": "display_data"
    }
   ],
   "source": [
    "VerDatos(\"./altamira/2022/10. OCTUBRE/ZONA ENTRADA A.xlsx\", 'Octubre2022')"
   ]
  },
  {
   "cell_type": "code",
   "execution_count": 86,
   "metadata": {},
   "outputs": [
    {
     "name": "stdout",
     "output_type": "stream",
     "text": [
      "Noviembre2022\n",
      "Nans por columnas del archivo cruce\n",
      "Unnamed: 0                0\n",
      "Unnamed: 0.1              0\n",
      "Unnamed: 0.1.1            0\n",
      "Unnamed: 0.1.1.1          0\n",
      "Unnamed: 0.1.1.1.1        0\n",
      "Fecha/Tiempo              0\n",
      "Temperatura A (° C)       0\n",
      "tr aire inf ('C)          0\n",
      "tr aire sup ('C)          3\n",
      "tr cont inf ('C)          0\n",
      "Humedad R  A (% Hr)       0\n",
      "tr cont sup ('C)          1\n",
      "CO2 A (ppm)               0\n",
      "Presion entrada (mbar)    0\n",
      "Th_suavizada              5\n",
      "dtype: int64\n",
      "len Th: 2880 len CO2 hall: 2880\n"
     ]
    },
    {
     "data": {
      "image/png": "[encoded data removed]",
      "text/plain": [
       "<Figure size 216x216 with 1 Axes>"
      ]
     },
     "metadata": {
      "needs_background": "light"
     },
     "output_type": "display_data"
    },
    {
     "data": {
      "image/png": "[encoded data removed]",
      "text/plain": [
       "<Figure size 216x216 with 1 Axes>"
      ]
     },
     "metadata": {
      "needs_background": "light"
     },
     "output_type": "display_data"
    }
   ],
   "source": [
    "VerDatos(\"./altamira/2022/11. NOVIEMBRE/ZONA ENTRADA A.xlsx\", 'Noviembre2022')"
   ]
  },
  {
   "cell_type": "code",
   "execution_count": 87,
   "metadata": {
    "scrolled": false
   },
   "outputs": [
    {
     "name": "stdout",
     "output_type": "stream",
     "text": [
      "Diciembre2022\n",
      "Nans por columnas del archivo cruce\n",
      "Unnamed: 0                 0\n",
      "Unnamed: 0.1               0\n",
      "Unnamed: 0.1.1             0\n",
      "Unnamed: 0.1.1.1           0\n",
      "Fecha/Tiempo               0\n",
      "Temperatura A (° C)        4\n",
      "tr aire inf ('C)           4\n",
      "tr aire sup ('C)           0\n",
      "tr cont inf ('C)           4\n",
      "Humedad R  A (% Hr)        4\n",
      "tr cont sup ('C)           4\n",
      "CO2 A (ppm)                0\n",
      "Presion entrada (mbar)     0\n",
      "Th_suavizada              17\n",
      "dtype: int64\n",
      "len Th: 2976 len CO2 hall: 2976\n"
     ]
    },
    {
     "data": {
      "image/png": "[encoded data removed]",
      "text/plain": [
       "<Figure size 216x216 with 1 Axes>"
      ]
     },
     "metadata": {
      "needs_background": "light"
     },
     "output_type": "display_data"
    },
    {
     "data": {
      "image/png": "[encoded data removed]",
      "text/plain": [
       "<Figure size 216x216 with 1 Axes>"
      ]
     },
     "metadata": {
      "needs_background": "light"
     },
     "output_type": "display_data"
    }
   ],
   "source": [
    "VerDatos(\"./altamira/2022/12. DICIEMBRE/ZONA ENTRADA A.xlsx\", 'Diciembre2022')"
   ]
  },
  {
   "cell_type": "markdown",
   "metadata": {},
   "source": [
    "# Suavizar exterior"
   ]
  },
  {
   "cell_type": "code",
   "execution_count": 88,
   "metadata": {
    "scrolled": true
   },
   "outputs": [
    {
     "ename": "FileCreateError",
     "evalue": "[Errno 13] Permission denied: './altamira/2020/10.OCTUBRE/ZONA ENTRADA.xlsx'",
     "output_type": "error",
     "traceback": [
      "\u001b[1;31m---------------------------------------------------------------------------\u001b[0m",
      "\u001b[1;31mPermissionError\u001b[0m                           Traceback (most recent call last)",
      "\u001b[1;32m~\\anaconda3\\lib\\site-packages\\xlsxwriter\\workbook.py\u001b[0m in \u001b[0;36mclose\u001b[1;34m(self)\u001b[0m\n\u001b[0;32m    315\u001b[0m             \u001b[1;32mtry\u001b[0m\u001b[1;33m:\u001b[0m\u001b[1;33m\u001b[0m\u001b[1;33m\u001b[0m\u001b[0m\n\u001b[1;32m--> 316\u001b[1;33m                 \u001b[0mself\u001b[0m\u001b[1;33m.\u001b[0m\u001b[0m_store_workbook\u001b[0m\u001b[1;33m(\u001b[0m\u001b[1;33m)\u001b[0m\u001b[1;33m\u001b[0m\u001b[1;33m\u001b[0m\u001b[0m\n\u001b[0m\u001b[0;32m    317\u001b[0m             \u001b[1;32mexcept\u001b[0m \u001b[0mIOError\u001b[0m \u001b[1;32mas\u001b[0m \u001b[0me\u001b[0m\u001b[1;33m:\u001b[0m\u001b[1;33m\u001b[0m\u001b[1;33m\u001b[0m\u001b[0m\n",
      "\u001b[1;32m~\\anaconda3\\lib\\site-packages\\xlsxwriter\\workbook.py\u001b[0m in \u001b[0;36m_store_workbook\u001b[1;34m(self)\u001b[0m\n\u001b[0;32m    631\u001b[0m         \u001b[1;32mexcept\u001b[0m \u001b[0mIOError\u001b[0m \u001b[1;32mas\u001b[0m \u001b[0me\u001b[0m\u001b[1;33m:\u001b[0m\u001b[1;33m\u001b[0m\u001b[1;33m\u001b[0m\u001b[0m\n\u001b[1;32m--> 632\u001b[1;33m             \u001b[1;32mraise\u001b[0m \u001b[0me\u001b[0m\u001b[1;33m\u001b[0m\u001b[1;33m\u001b[0m\u001b[0m\n\u001b[0m\u001b[0;32m    633\u001b[0m \u001b[1;33m\u001b[0m\u001b[0m\n",
      "\u001b[1;32m~\\anaconda3\\lib\\site-packages\\xlsxwriter\\workbook.py\u001b[0m in \u001b[0;36m_store_workbook\u001b[1;34m(self)\u001b[0m\n\u001b[0;32m    628\u001b[0m         \u001b[1;32mtry\u001b[0m\u001b[1;33m:\u001b[0m\u001b[1;33m\u001b[0m\u001b[1;33m\u001b[0m\u001b[0m\n\u001b[1;32m--> 629\u001b[1;33m             xlsx_file = ZipFile(self.filename, \"w\", compression=ZIP_DEFLATED,\n\u001b[0m\u001b[0;32m    630\u001b[0m                                 allowZip64=self.allow_zip64)\n",
      "\u001b[1;32m~\\anaconda3\\lib\\zipfile.py\u001b[0m in \u001b[0;36m__init__\u001b[1;34m(self, file, mode, compression, allowZip64, compresslevel, strict_timestamps)\u001b[0m\n\u001b[0;32m   1249\u001b[0m                 \u001b[1;32mtry\u001b[0m\u001b[1;33m:\u001b[0m\u001b[1;33m\u001b[0m\u001b[1;33m\u001b[0m\u001b[0m\n\u001b[1;32m-> 1250\u001b[1;33m                     \u001b[0mself\u001b[0m\u001b[1;33m.\u001b[0m\u001b[0mfp\u001b[0m \u001b[1;33m=\u001b[0m \u001b[0mio\u001b[0m\u001b[1;33m.\u001b[0m\u001b[0mopen\u001b[0m\u001b[1;33m(\u001b[0m\u001b[0mfile\u001b[0m\u001b[1;33m,\u001b[0m \u001b[0mfilemode\u001b[0m\u001b[1;33m)\u001b[0m\u001b[1;33m\u001b[0m\u001b[1;33m\u001b[0m\u001b[0m\n\u001b[0m\u001b[0;32m   1251\u001b[0m                 \u001b[1;32mexcept\u001b[0m \u001b[0mOSError\u001b[0m\u001b[1;33m:\u001b[0m\u001b[1;33m\u001b[0m\u001b[1;33m\u001b[0m\u001b[0m\n",
      "\u001b[1;31mPermissionError\u001b[0m: [Errno 13] Permission denied: './altamira/2020/10.OCTUBRE/ZONA ENTRADA.xlsx'",
      "\nDuring handling of the above exception, another exception occurred:\n",
      "\u001b[1;31mFileCreateError\u001b[0m                           Traceback (most recent call last)",
      "\u001b[1;32m<ipython-input-88-2228f3125fea>\u001b[0m in \u001b[0;36m<module>\u001b[1;34m\u001b[0m\n\u001b[0;32m     22\u001b[0m \u001b[1;31m#Aplicar la función\u001b[0m\u001b[1;33m\u001b[0m\u001b[1;33m\u001b[0m\u001b[1;33m\u001b[0m\u001b[0m\n\u001b[0;32m     23\u001b[0m \u001b[1;31m#2020:\u001b[0m\u001b[1;33m\u001b[0m\u001b[1;33m\u001b[0m\u001b[1;33m\u001b[0m\u001b[0m\n\u001b[1;32m---> 24\u001b[1;33m \u001b[0msuavizar\u001b[0m\u001b[1;33m(\u001b[0m\u001b[1;34m\"./altamira/2020/10.OCTUBRE/ZONA ENTRADA.xlsx\"\u001b[0m\u001b[1;33m,\u001b[0m \u001b[0mn\u001b[0m\u001b[1;33m)\u001b[0m\u001b[1;31m#hecho, no sé pq ahora da error\u001b[0m\u001b[1;33m\u001b[0m\u001b[1;33m\u001b[0m\u001b[0m\n\u001b[0m\u001b[0;32m     25\u001b[0m \u001b[0msuavizar\u001b[0m\u001b[1;33m(\u001b[0m\u001b[1;34m\"./altamira/2020/11.NOVIEMBRE/ZONA ENTRADA A.xlsx\"\u001b[0m\u001b[1;33m,\u001b[0m \u001b[0mn\u001b[0m\u001b[1;33m)\u001b[0m\u001b[1;33m\u001b[0m\u001b[1;33m\u001b[0m\u001b[0m\n\u001b[0;32m     26\u001b[0m \u001b[0msuavizar\u001b[0m\u001b[1;33m(\u001b[0m\u001b[1;34m\"./altamira/2020/12.DICIEMBRE/ZONA ENTRADA A.xlsx\"\u001b[0m\u001b[1;33m,\u001b[0m \u001b[0mn\u001b[0m\u001b[1;33m)\u001b[0m\u001b[1;31m#problema al guardar el fichero\u001b[0m\u001b[1;33m\u001b[0m\u001b[1;33m\u001b[0m\u001b[0m\n",
      "\u001b[1;32m<ipython-input-88-2228f3125fea>\u001b[0m in \u001b[0;36msuavizar\u001b[1;34m(Fichero, n)\u001b[0m\n\u001b[0;32m     16\u001b[0m     \u001b[0mdfC\u001b[0m \u001b[1;33m=\u001b[0m \u001b[0mpd\u001b[0m\u001b[1;33m.\u001b[0m\u001b[0mread_excel\u001b[0m\u001b[1;33m(\u001b[0m\u001b[0mFichero\u001b[0m\u001b[1;33m)\u001b[0m\u001b[1;33m\u001b[0m\u001b[1;33m\u001b[0m\u001b[0m\n\u001b[0;32m     17\u001b[0m     \u001b[0mdfC\u001b[0m\u001b[1;33m[\u001b[0m\u001b[1;34m'Th_suavizada'\u001b[0m\u001b[1;33m]\u001b[0m \u001b[1;33m=\u001b[0m \u001b[0mdfC\u001b[0m\u001b[1;33m[\u001b[0m\u001b[1;34m'Temperatura A (° C)'\u001b[0m\u001b[1;33m]\u001b[0m\u001b[1;33m.\u001b[0m\u001b[0mrolling\u001b[0m\u001b[1;33m(\u001b[0m\u001b[0mn\u001b[0m\u001b[1;33m)\u001b[0m\u001b[1;33m.\u001b[0m\u001b[0mmean\u001b[0m\u001b[1;33m(\u001b[0m\u001b[1;33m)\u001b[0m\u001b[1;33m.\u001b[0m\u001b[0mshift\u001b[0m\u001b[1;33m(\u001b[0m\u001b[1;36m1\u001b[0m\u001b[1;33m)\u001b[0m\u001b[1;33m\u001b[0m\u001b[1;33m\u001b[0m\u001b[0m\n\u001b[1;32m---> 18\u001b[1;33m     \u001b[0mdfC\u001b[0m\u001b[1;33m.\u001b[0m\u001b[0mto_excel\u001b[0m\u001b[1;33m(\u001b[0m\u001b[0mFichero\u001b[0m\u001b[1;33m)\u001b[0m\u001b[1;33m\u001b[0m\u001b[1;33m\u001b[0m\u001b[0m\n\u001b[0m\u001b[0;32m     19\u001b[0m     \u001b[1;32mreturn\u001b[0m \u001b[0mdfC\u001b[0m\u001b[1;33m\u001b[0m\u001b[1;33m\u001b[0m\u001b[0m\n\u001b[0;32m     20\u001b[0m \u001b[1;31m# Definir cuantos términos tener en cuenta en el suavizado:\u001b[0m\u001b[1;33m\u001b[0m\u001b[1;33m\u001b[0m\u001b[1;33m\u001b[0m\u001b[0m\n",
      "\u001b[1;32m~\\anaconda3\\lib\\site-packages\\pandas\\core\\generic.py\u001b[0m in \u001b[0;36mto_excel\u001b[1;34m(self, excel_writer, sheet_name, na_rep, float_format, columns, header, index, index_label, startrow, startcol, engine, merge_cells, encoding, inf_rep, verbose, freeze_panes)\u001b[0m\n\u001b[0;32m   2173\u001b[0m             \u001b[0minf_rep\u001b[0m\u001b[1;33m=\u001b[0m\u001b[0minf_rep\u001b[0m\u001b[1;33m,\u001b[0m\u001b[1;33m\u001b[0m\u001b[1;33m\u001b[0m\u001b[0m\n\u001b[0;32m   2174\u001b[0m         )\n\u001b[1;32m-> 2175\u001b[1;33m         formatter.write(\n\u001b[0m\u001b[0;32m   2176\u001b[0m             \u001b[0mexcel_writer\u001b[0m\u001b[1;33m,\u001b[0m\u001b[1;33m\u001b[0m\u001b[1;33m\u001b[0m\u001b[0m\n\u001b[0;32m   2177\u001b[0m             \u001b[0msheet_name\u001b[0m\u001b[1;33m=\u001b[0m\u001b[0msheet_name\u001b[0m\u001b[1;33m,\u001b[0m\u001b[1;33m\u001b[0m\u001b[1;33m\u001b[0m\u001b[0m\n",
      "\u001b[1;32m~\\anaconda3\\lib\\site-packages\\pandas\\io\\formats\\excel.py\u001b[0m in \u001b[0;36mwrite\u001b[1;34m(self, writer, sheet_name, startrow, startcol, freeze_panes, engine)\u001b[0m\n\u001b[0;32m    736\u001b[0m         )\n\u001b[0;32m    737\u001b[0m         \u001b[1;32mif\u001b[0m \u001b[0mneed_save\u001b[0m\u001b[1;33m:\u001b[0m\u001b[1;33m\u001b[0m\u001b[1;33m\u001b[0m\u001b[0m\n\u001b[1;32m--> 738\u001b[1;33m             \u001b[0mwriter\u001b[0m\u001b[1;33m.\u001b[0m\u001b[0msave\u001b[0m\u001b[1;33m(\u001b[0m\u001b[1;33m)\u001b[0m\u001b[1;33m\u001b[0m\u001b[1;33m\u001b[0m\u001b[0m\n\u001b[0m",
      "\u001b[1;32m~\\anaconda3\\lib\\site-packages\\pandas\\io\\excel\\_xlsxwriter.py\u001b[0m in \u001b[0;36msave\u001b[1;34m(self)\u001b[0m\n\u001b[0;32m    193\u001b[0m         \"\"\"\n\u001b[0;32m    194\u001b[0m \u001b[1;33m\u001b[0m\u001b[0m\n\u001b[1;32m--> 195\u001b[1;33m         \u001b[1;32mreturn\u001b[0m \u001b[0mself\u001b[0m\u001b[1;33m.\u001b[0m\u001b[0mbook\u001b[0m\u001b[1;33m.\u001b[0m\u001b[0mclose\u001b[0m\u001b[1;33m(\u001b[0m\u001b[1;33m)\u001b[0m\u001b[1;33m\u001b[0m\u001b[1;33m\u001b[0m\u001b[0m\n\u001b[0m\u001b[0;32m    196\u001b[0m \u001b[1;33m\u001b[0m\u001b[0m\n\u001b[0;32m    197\u001b[0m     def write_cells(\n",
      "\u001b[1;32m~\\anaconda3\\lib\\site-packages\\xlsxwriter\\workbook.py\u001b[0m in \u001b[0;36mclose\u001b[1;34m(self)\u001b[0m\n\u001b[0;32m    316\u001b[0m                 \u001b[0mself\u001b[0m\u001b[1;33m.\u001b[0m\u001b[0m_store_workbook\u001b[0m\u001b[1;33m(\u001b[0m\u001b[1;33m)\u001b[0m\u001b[1;33m\u001b[0m\u001b[1;33m\u001b[0m\u001b[0m\n\u001b[0;32m    317\u001b[0m             \u001b[1;32mexcept\u001b[0m \u001b[0mIOError\u001b[0m \u001b[1;32mas\u001b[0m \u001b[0me\u001b[0m\u001b[1;33m:\u001b[0m\u001b[1;33m\u001b[0m\u001b[1;33m\u001b[0m\u001b[0m\n\u001b[1;32m--> 318\u001b[1;33m                 \u001b[1;32mraise\u001b[0m \u001b[0mFileCreateError\u001b[0m\u001b[1;33m(\u001b[0m\u001b[0me\u001b[0m\u001b[1;33m)\u001b[0m\u001b[1;33m\u001b[0m\u001b[1;33m\u001b[0m\u001b[0m\n\u001b[0m\u001b[0;32m    319\u001b[0m             \u001b[1;32mexcept\u001b[0m \u001b[0mLargeZipFile\u001b[0m \u001b[1;32mas\u001b[0m \u001b[0me\u001b[0m\u001b[1;33m:\u001b[0m\u001b[1;33m\u001b[0m\u001b[1;33m\u001b[0m\u001b[0m\n\u001b[0;32m    320\u001b[0m                 raise FileSizeError(\"Filesize would require ZIP64 extensions. \"\n",
      "\u001b[1;31mFileCreateError\u001b[0m: [Errno 13] Permission denied: './altamira/2020/10.OCTUBRE/ZONA ENTRADA.xlsx'"
     ]
    }
   ],
   "source": [
    "def suavizar(Fichero, n):\n",
    "    \"\"\"\n",
    "    Introduciendo como atributos: \n",
    "    1)Fichero: Un fichero del Hall\n",
    "    2)n: El numero de elementos anteriores que se quieren tener en cuenta para hacer la media móvil suavizada\n",
    "    Devuelve: \n",
    "    1)Un dataframe para hall con una nueva columnas con las temperatura suavizadas mediante el método de la media\n",
    "    móvil de periodo n\n",
    "     #df['Th_suavizada']\n",
    "    2)Copia las columnas en el fichero Fichero\n",
    "    \n",
    "    ¿Qué es la  media móvil de periodo n?\n",
    "    Un algoritomo que obtiene el valor de un cierto dato haciendo la media de los n anteriores\n",
    "    \"\"\"\n",
    "    #exterior:\n",
    "    dfC = pd.read_excel(Fichero)\n",
    "    dfC['Th_suavizada'] = dfC['Temperatura A (° C)'].rolling(n).mean().shift(1)\n",
    "    dfC.to_excel(Fichero)\n",
    "    return dfC\n",
    "# Definir cuantos términos tener en cuenta en el suavizado:\n",
    "n=5\n",
    "#Aplicar la función\n",
    "#2020:\n",
    "suavizar(\"./altamira/2020/10.OCTUBRE/ZONA ENTRADA.xlsx\", n)#hecho, no sé pq ahora da error\n",
    "suavizar(\"./altamira/2020/11.NOVIEMBRE/ZONA ENTRADA A.xlsx\", n)\n",
    "suavizar(\"./altamira/2020/12.DICIEMBRE/ZONA ENTRADA A.xlsx\", n)#problema al guardar el fichero\n",
    "#dejó de dar error??\n",
    "# #2021:\n",
    "suavizar(\"./altamira/2021/1.ENERO/ZONA ENTRADA ENERO.xlsx\", n)\n",
    "suavizar(\"./altamira/2021/2.FEBRERO/ZONA ENTRADA A.xlsx\", n)\n",
    "suavizar(\"./altamira/2021/3.MARZO/ZONA ENTRADA A.xlsx\", n)\n",
    "suavizar(\"./altamira/2021/4.ABRIL/ZONA ENTRADA.xlsx\", n)\n",
    "suavizar(\"./altamira/2021/5.MAYO/ZONA ENTRADA A.xlsx\", n)\n",
    "suavizar(\"./altamira/2021/6.JUNIO/ZONA ENTRADA A.xlsx\", n)\n",
    "suavizar(\"./altamira/2021/7.JULIO/ZONA ENTRADA A.xlsx\", n)\n",
    "suavizar(\"./altamira/2021/8.AGOSTO/ZONA ENTRADA A.xlsx\", n)\n",
    "suavizar(\"./altamira/2021/9. SEPTIEMBRE/ZONA ENTRADA A.xlsx\", n)\n",
    "suavizar(\"./altamira/2021/10. OCTUBRE/ZONA ENTRADA A.xlsx\", n)\n",
    "suavizar(\"./altamira/2021/11. NOVIEMBRE/ZONA ENTRADA A.xlsx\", n)\n",
    "suavizar(\"./altamira/2021/12. DICIEMBRE/ZONA ENTRADA.xlsx\", n)\n",
    "#2022:\n",
    "suavizar(\"./altamira/2022/1.ENERO/ZONA ENTRADA A.xlsx\", n)\n",
    "suavizar(\"./altamira/2022/2.FEBRERO/ZONA ENTRADA A.xlsx\", n)\n",
    "suavizar(\"./altamira/2022/3.MARZO/ZONA ENTRADA A.xlsx\", n)\n",
    "suavizar(\"./altamira/2022/4.ABRIL/ZONA ENTRADA A.xlsx\", n)\n",
    "suavizar(\"./altamira/2022/5.MAYO/ZONA ENTRADA.xlsx\", n)\n",
    "suavizar(\"./altamira/2022/6. JUNIO/ZONA ENTRADA.xlsx\", n)\n",
    "suavizar(\"./altamira/2022/7.JULIO/ZONA ENTRADA A.xlsx\", n)\n",
    "suavizar(\"./altamira/2022/8. AGOSTO/ZONA ENTRADA A.xlsx\", n)\n",
    "suavizar(\"./altamira/2022/9. SEPTIEMBRE/ZONA ENTRADA A.xlsx\", n)\n",
    "suavizar(\"./altamira/2022/10. OCTUBRE/ZONA ENTRADA A.xlsx\", n)\n",
    "suavizar(\"./altamira/2022/11. NOVIEMBRE/ZONA ENTRADA A.xlsx\", n)\n",
    "suavizar(\"./altamira/2022/12. DICIEMBRE/ZONA ENTRADA A.xlsx\", n)"
   ]
  },
  {
   "cell_type": "markdown",
   "metadata": {},
   "source": [
    "# Corregir longitud de los dataframes tq coincidan con los de exterior y cruce"
   ]
  },
  {
   "cell_type": "code",
   "execution_count": null,
   "metadata": {},
   "outputs": [],
   "source": [
    "df=pd.read_excel(\"./altamira/2021/7.JULIO/ZONA ENTRADA A.xlsx\")\n",
    "df"
   ]
  }
 ],
 "metadata": {
  "kernelspec": {
   "display_name": "Python 3",
   "language": "python",
   "name": "python3"
  },
  "language_info": {
   "codemirror_mode": {
    "name": "ipython",
    "version": 3
   },
   "file_extension": ".py",
   "mimetype": "text/x-python",
   "name": "python",
   "nbconvert_exporter": "python",
   "pygments_lexer": "ipython3",
   "version": "3.8.3"
  }
 },
 "nbformat": 4,
 "nbformat_minor": 4
}
